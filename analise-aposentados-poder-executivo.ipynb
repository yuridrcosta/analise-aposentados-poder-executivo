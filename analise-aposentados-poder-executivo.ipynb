{
  "nbformat": 4,
  "nbformat_minor": 0,
  "metadata": {
    "colab": {
      "name": "Análise Exploratória.ipynb",
      "provenance": [],
      "collapsed_sections": [
        "99c56rNu3n6p"
      ],
      "toc_visible": true
    },
    "kernelspec": {
      "name": "python3",
      "display_name": "Python 3"
    },
    "language_info": {
      "name": "python"
    }
  },
  "cells": [
    {
      "cell_type": "markdown",
      "source": [
        "# Introdução\n",
        "\n",
        "Esse projeto realiza uma análise nos [dados dos aposentados de poder executivo federal](http://www.dados.gov.br/dataset/aposentados-poder-executivo-federal). <br/>"
      ],
      "metadata": {
        "id": "4RSSKE2K8VQG"
      }
    },
    {
      "cell_type": "markdown",
      "source": [
        "# Mount Google Drive"
      ],
      "metadata": {
        "id": "6-nJUFviKs_a"
      }
    },
    {
      "cell_type": "code",
      "source": [
        "from google.colab import drive\n",
        "drive.mount('/content/gdrive')"
      ],
      "metadata": {
        "colab": {
          "base_uri": "https://localhost:8080/",
          "height": 329
        },
        "id": "nkvpavFV3F4j",
        "outputId": "79611dc6-86a4-452a-8d5a-9893810da766"
      },
      "execution_count": null,
      "outputs": [
        {
          "output_type": "error",
          "ename": "MessageError",
          "evalue": "ignored",
          "traceback": [
            "\u001b[0;31m---------------------------------------------------------------------------\u001b[0m",
            "\u001b[0;31mMessageError\u001b[0m                              Traceback (most recent call last)",
            "\u001b[0;32m<ipython-input-1-4996ee3d8d09>\u001b[0m in \u001b[0;36m<module>\u001b[0;34m()\u001b[0m\n\u001b[1;32m      1\u001b[0m \u001b[0;32mfrom\u001b[0m \u001b[0mgoogle\u001b[0m\u001b[0;34m.\u001b[0m\u001b[0mcolab\u001b[0m \u001b[0;32mimport\u001b[0m \u001b[0mdrive\u001b[0m\u001b[0;34m\u001b[0m\u001b[0;34m\u001b[0m\u001b[0m\n\u001b[0;32m----> 2\u001b[0;31m \u001b[0mdrive\u001b[0m\u001b[0;34m.\u001b[0m\u001b[0mmount\u001b[0m\u001b[0;34m(\u001b[0m\u001b[0;34m'/content/gdrive'\u001b[0m\u001b[0;34m)\u001b[0m\u001b[0;34m\u001b[0m\u001b[0;34m\u001b[0m\u001b[0m\n\u001b[0m",
            "\u001b[0;32m/usr/local/lib/python3.7/dist-packages/google/colab/drive.py\u001b[0m in \u001b[0;36mmount\u001b[0;34m(mountpoint, force_remount, timeout_ms)\u001b[0m\n\u001b[1;32m    107\u001b[0m       \u001b[0mforce_remount\u001b[0m\u001b[0;34m=\u001b[0m\u001b[0mforce_remount\u001b[0m\u001b[0;34m,\u001b[0m\u001b[0;34m\u001b[0m\u001b[0;34m\u001b[0m\u001b[0m\n\u001b[1;32m    108\u001b[0m       \u001b[0mtimeout_ms\u001b[0m\u001b[0;34m=\u001b[0m\u001b[0mtimeout_ms\u001b[0m\u001b[0;34m,\u001b[0m\u001b[0;34m\u001b[0m\u001b[0;34m\u001b[0m\u001b[0m\n\u001b[0;32m--> 109\u001b[0;31m       ephemeral=True)\n\u001b[0m\u001b[1;32m    110\u001b[0m \u001b[0;34m\u001b[0m\u001b[0m\n\u001b[1;32m    111\u001b[0m \u001b[0;34m\u001b[0m\u001b[0m\n",
            "\u001b[0;32m/usr/local/lib/python3.7/dist-packages/google/colab/drive.py\u001b[0m in \u001b[0;36m_mount\u001b[0;34m(mountpoint, force_remount, timeout_ms, ephemeral)\u001b[0m\n\u001b[1;32m    122\u001b[0m   \u001b[0;32mif\u001b[0m \u001b[0mephemeral\u001b[0m\u001b[0;34m:\u001b[0m\u001b[0;34m\u001b[0m\u001b[0;34m\u001b[0m\u001b[0m\n\u001b[1;32m    123\u001b[0m     _message.blocking_request(\n\u001b[0;32m--> 124\u001b[0;31m         'request_auth', request={'authType': 'dfs_ephemeral'}, timeout_sec=None)\n\u001b[0m\u001b[1;32m    125\u001b[0m \u001b[0;34m\u001b[0m\u001b[0m\n\u001b[1;32m    126\u001b[0m   \u001b[0mmountpoint\u001b[0m \u001b[0;34m=\u001b[0m \u001b[0m_os\u001b[0m\u001b[0;34m.\u001b[0m\u001b[0mpath\u001b[0m\u001b[0;34m.\u001b[0m\u001b[0mexpanduser\u001b[0m\u001b[0;34m(\u001b[0m\u001b[0mmountpoint\u001b[0m\u001b[0;34m)\u001b[0m\u001b[0;34m\u001b[0m\u001b[0;34m\u001b[0m\u001b[0m\n",
            "\u001b[0;32m/usr/local/lib/python3.7/dist-packages/google/colab/_message.py\u001b[0m in \u001b[0;36mblocking_request\u001b[0;34m(request_type, request, timeout_sec, parent)\u001b[0m\n\u001b[1;32m    173\u001b[0m   request_id = send_request(\n\u001b[1;32m    174\u001b[0m       request_type, request, parent=parent, expect_reply=True)\n\u001b[0;32m--> 175\u001b[0;31m   \u001b[0;32mreturn\u001b[0m \u001b[0mread_reply_from_input\u001b[0m\u001b[0;34m(\u001b[0m\u001b[0mrequest_id\u001b[0m\u001b[0;34m,\u001b[0m \u001b[0mtimeout_sec\u001b[0m\u001b[0;34m)\u001b[0m\u001b[0;34m\u001b[0m\u001b[0;34m\u001b[0m\u001b[0m\n\u001b[0m",
            "\u001b[0;32m/usr/local/lib/python3.7/dist-packages/google/colab/_message.py\u001b[0m in \u001b[0;36mread_reply_from_input\u001b[0;34m(message_id, timeout_sec)\u001b[0m\n\u001b[1;32m    104\u001b[0m         reply.get('colab_msg_id') == message_id):\n\u001b[1;32m    105\u001b[0m       \u001b[0;32mif\u001b[0m \u001b[0;34m'error'\u001b[0m \u001b[0;32min\u001b[0m \u001b[0mreply\u001b[0m\u001b[0;34m:\u001b[0m\u001b[0;34m\u001b[0m\u001b[0;34m\u001b[0m\u001b[0m\n\u001b[0;32m--> 106\u001b[0;31m         \u001b[0;32mraise\u001b[0m \u001b[0mMessageError\u001b[0m\u001b[0;34m(\u001b[0m\u001b[0mreply\u001b[0m\u001b[0;34m[\u001b[0m\u001b[0;34m'error'\u001b[0m\u001b[0;34m]\u001b[0m\u001b[0;34m)\u001b[0m\u001b[0;34m\u001b[0m\u001b[0;34m\u001b[0m\u001b[0m\n\u001b[0m\u001b[1;32m    107\u001b[0m       \u001b[0;32mreturn\u001b[0m \u001b[0mreply\u001b[0m\u001b[0;34m.\u001b[0m\u001b[0mget\u001b[0m\u001b[0;34m(\u001b[0m\u001b[0;34m'data'\u001b[0m\u001b[0;34m,\u001b[0m \u001b[0;32mNone\u001b[0m\u001b[0;34m)\u001b[0m\u001b[0;34m\u001b[0m\u001b[0;34m\u001b[0m\u001b[0m\n\u001b[1;32m    108\u001b[0m \u001b[0;34m\u001b[0m\u001b[0m\n",
            "\u001b[0;31mMessageError\u001b[0m: Error: credential propagation was unsuccessful"
          ]
        }
      ]
    },
    {
      "cell_type": "markdown",
      "source": [
        "# Bibliotecas necessárias"
      ],
      "metadata": {
        "id": "Q6e22M0MK0My"
      }
    },
    {
      "cell_type": "code",
      "execution_count": null,
      "metadata": {
        "id": "R0G5Rjh57T01"
      },
      "outputs": [],
      "source": [
        "from matplotlib import pyplot as plt\n",
        "import datetime as dt\n",
        "import pandas as pd\n",
        "import scipy as sp\n",
        "import numpy as np\n",
        "import re"
      ]
    },
    {
      "cell_type": "markdown",
      "source": [
        "# Obtenção dos dados"
      ],
      "metadata": {
        "id": "G-13HBQZK2kb"
      }
    },
    {
      "cell_type": "code",
      "source": [
        "base_folder = '/content/gdrive/MyDrive/CD2022/dados'"
      ],
      "metadata": {
        "id": "puFOtxp-3dRS"
      },
      "execution_count": null,
      "outputs": []
    },
    {
      "cell_type": "code",
      "source": [
        "column_names = ['nome','cpf','matricula_servidor','nome_orgao','sigla_orgao',\n",
        "                'codigo_orgao_superior','cargo','classe','padrao','referencia',\n",
        "                'nivel','tipo_aposentadoria','fundamentacao_inatividade','nome_diploma_legal',\n",
        "                'data_diploma_legal','ocorrencia_ingresso','data_ingresso','salario']"
      ],
      "metadata": {
        "id": "3_Qpd4VqLhyv"
      },
      "execution_count": null,
      "outputs": []
    },
    {
      "cell_type": "code",
      "source": [
        "df = pd.read_csv(base_folder+\"/APOSENTADOS_022022_FULL.csv\",names=column_names,header=None, sep = \";\", encoding=\"ISO-8859-1\")\n",
        "df"
      ],
      "metadata": {
        "colab": {
          "base_uri": "https://localhost:8080/",
          "height": 939
        },
        "id": "lBMZyQcFJxB7",
        "outputId": "181f96ce-13d6-462c-b009-e2fec4c13140"
      },
      "execution_count": null,
      "outputs": [
        {
          "output_type": "stream",
          "name": "stderr",
          "text": [
            "/usr/local/lib/python3.7/dist-packages/IPython/core/interactiveshell.py:2882: DtypeWarning: Columns (2,5,9,10,14) have mixed types.Specify dtype option on import or set low_memory=False.\n",
            "  exec(code_obj, self.user_global_ns, self.user_ns)\n"
          ]
        },
        {
          "output_type": "execute_result",
          "data": {
            "text/plain": [
              "                                                     nome          cpf  \\\n",
              "0                                                    Nome          CPF   \n",
              "1       ANTONIO ALVES BEZERRA                         ...  ***686441**   \n",
              "2       ANTONIO CARLOS CONCEICAO MARTINS              ...  ***423941**   \n",
              "3       ARLINDA COSTA GUTEMBERG                       ...  ***063691**   \n",
              "4       BENTO MOREIRA LIMA JUNIOR                     ...  ***460301**   \n",
              "...                                                   ...          ...   \n",
              "417215  WALDIR TEIXEIRA                               ...  ***952937**   \n",
              "417216  MARIA ESTRELA NUNES QUEIROZ                   ...  ***738862**   \n",
              "417217  NEIDE PEREIRA CEZARIO                         ...  ***531387**   \n",
              "417218  JURACY ESTEVAM ALQUIE                         ...  ***771101**   \n",
              "417219  HERMANO FERREIRA MARTINS                      ...  ***289449**   \n",
              "\n",
              "       matricula_servidor                                nome_orgao  \\\n",
              "0               Matricula                                     Orgao   \n",
              "1            130000000029  MINIST.DA AGRICULTURA,PECUARIA E ABAST.    \n",
              "2            130000000033  MINIST.DA AGRICULTURA,PECUARIA E ABAST.    \n",
              "3            130000000048  MINIST.DA AGRICULTURA,PECUARIA E ABAST.    \n",
              "4            130000000061  MINIST.DA AGRICULTURA,PECUARIA E ABAST.    \n",
              "...                   ...                                       ...   \n",
              "417215       700000970456  COMANDO DA MARINHA                         \n",
              "417216       700000956827  COMANDO DA MARINHA                         \n",
              "417217       700000974857  COMANDO DA MARINHA                         \n",
              "417218       700002335071  COMANDO DA MARINHA                         \n",
              "417219       700003144758  COMANDO DA MARINHA                         \n",
              "\n",
              "        sigla_orgao codigo_orgao_superior  \\\n",
              "0       Sigla Orgao      Orgao vinculacao   \n",
              "1        MAPA                       00000   \n",
              "2        MAPA                       00000   \n",
              "3        MAPA                       00000   \n",
              "4        MAPA                       00000   \n",
              "...             ...                   ...   \n",
              "417215   CM                         40105   \n",
              "417216   CM                         40105   \n",
              "417217   CM                         40105   \n",
              "417218   CM                         40105   \n",
              "417219   CM                         40105   \n",
              "\n",
              "                                           cargo  classe  padrao  referencia  \\\n",
              "0                                  Cargo emprego  Classe  Padrao  Referencia   \n",
              "1       AGENTE DE VIGILANCIA                           S     II           00   \n",
              "2       ESTATISTICO                                    S     III          00   \n",
              "3       AUXILIAR DE ENFERMAGEM                         S     III          00   \n",
              "4       AUDITOR FISCAL FEDERAL AGROPECUARIO            S     IV           00   \n",
              "...                                          ...     ...     ...         ...   \n",
              "417215  AUXILIAR OPERAC EM AGROPECUARIA                S     III           0   \n",
              "417216  AGENTE ADMINISTRATIVO                          S     III           0   \n",
              "417217  AGENTE ADMINISTRATIVO                          S     III           0   \n",
              "417218  AGENTE ADMINISTRATIVO                          S     III           0   \n",
              "417219  AGENTE ADMINISTRATIVO                          C     III           0   \n",
              "\n",
              "        nivel           tipo_aposentadoria  \\\n",
              "0       Nivel           Tipo aposentadoria   \n",
              "1         000  VOLUNTARIA                    \n",
              "2         000  VOLUNTARIA                    \n",
              "3         000  VOLUNTARIA                    \n",
              "4         000  APOSENTADORIA POR INVALIDEZ   \n",
              "...       ...                          ...   \n",
              "417215      0  VOLUNTARIA                    \n",
              "417216      0  VOLUNTARIA                    \n",
              "417217      0  VOLUNTARIA                    \n",
              "417218      0  COMPULSORIA                   \n",
              "417219      0  VOLUNTARIA                    \n",
              "\n",
              "                       fundamentacao_inatividade  \\\n",
              "0                       Fund legal aposentadoria   \n",
              "1       APOS. VOLUNTARIA C/PROVENTOS INTEGRAIS     \n",
              "2       CF 40 III A                                \n",
              "3       APOS. VOLUNTARIA C/PROVENTOS INTEGRAIS     \n",
              "4       CF 40 I INT                                \n",
              "...                                          ...   \n",
              "417215  EC47 3Ì                                    \n",
              "417216  EC47 3Ì                                    \n",
              "417217  EC47 3Ì                                    \n",
              "417218  EC41 40 II                                 \n",
              "417219  CF67 178 C EX-COMBATENTE                   \n",
              "\n",
              "                                       nome_diploma_legal  \\\n",
              "0                                  Portaria aposentadoria   \n",
              "1       PORTARIA NO. 63194 PUBLICADO EM 30DEZ1994     ...   \n",
              "2       PORTARIA NO. 26 PUBLICADO EM 31JAN1995        ...   \n",
              "3       PORTARIA NO. 341 PUBLICADO EM 01JUL1990       ...   \n",
              "4       LEI NO. 21050 PUBLICADO EM 02JUL1990          ...   \n",
              "...                                                   ...   \n",
              "417215  PORT 001278/2010, BHMN PUB: DO 11NOV2010      ...   \n",
              "417216  PORT 000199/2015, COM4DN PUB: DO 18SET2015    ...   \n",
              "417217  PORT 000819/2015, CDAM PUB: DO 21OUT2015      ...   \n",
              "417218  PORT 000635/2018, DPCVM PUB: DO 31JUL2018     ...   \n",
              "417219  PORTARIA 1099 DE 21/07/1976 - DOU 10/08/1976  ...   \n",
              "\n",
              "               data_diploma_legal  \\\n",
              "0       Dt ocorrencia inatividade   \n",
              "1                        30121994   \n",
              "2                        31011995   \n",
              "3                        01071990   \n",
              "4                        02071990   \n",
              "...                           ...   \n",
              "417215                   11112010   \n",
              "417216                   18092015   \n",
              "417217                   21102015   \n",
              "417218                   17012008   \n",
              "417219                   10081976   \n",
              "\n",
              "                                      ocorrencia_ingresso  \\\n",
              "0                                         Nome ocorrencia   \n",
              "1       NOMEACAO PARA CARGO                           ...   \n",
              "2       ADMISSAO SEM CONCURSO PUBLICO                 ...   \n",
              "3       ADMISSAO SEM CONCURSO PUBLICO                 ...   \n",
              "4       ADMISSAO SEM CONCURSO PUBLICO                 ...   \n",
              "...                                                   ...   \n",
              "417215  ADMISSAO SEM CONCURSO PUBLICO                 ...   \n",
              "417216  ADMISSAO POR CONCURSO PUBLICO                 ...   \n",
              "417217  ADMISSAO SEM CONCURSO PUBLICO                 ...   \n",
              "417218  DECISAO JUDICIAL                              ...   \n",
              "417219  ADMISSAO SEM CONCURSO PUBLICO                 ...   \n",
              "\n",
              "                      data_ingresso  \\\n",
              "0       Dt ingresso servico publico   \n",
              "1                          15061962   \n",
              "2                          15061962   \n",
              "3                          15061962   \n",
              "4                          08061961   \n",
              "...                             ...   \n",
              "417215                     17041984   \n",
              "417216                     17041985   \n",
              "417217                     04101988   \n",
              "417218                     02121973   \n",
              "417219                     16051953   \n",
              "\n",
              "                                                  salario  \n",
              "0       Valor aposentadoria                           ...  \n",
              "1                                                2.596,79  \n",
              "2                                               10.750,99  \n",
              "3                                                3.960,76  \n",
              "4                                               19.433,65  \n",
              "...                                                   ...  \n",
              "417215                                           2.598,22  \n",
              "417216                                           4.356,73  \n",
              "417217                                           3.197,45  \n",
              "417218                                           3.756,30  \n",
              "417219                                           6.538,49  \n",
              "\n",
              "[417220 rows x 18 columns]"
            ],
            "text/html": [
              "\n",
              "  <div id=\"df-3dd2f79e-a98e-4d4b-ba4b-8c113a640d1a\">\n",
              "    <div class=\"colab-df-container\">\n",
              "      <div>\n",
              "<style scoped>\n",
              "    .dataframe tbody tr th:only-of-type {\n",
              "        vertical-align: middle;\n",
              "    }\n",
              "\n",
              "    .dataframe tbody tr th {\n",
              "        vertical-align: top;\n",
              "    }\n",
              "\n",
              "    .dataframe thead th {\n",
              "        text-align: right;\n",
              "    }\n",
              "</style>\n",
              "<table border=\"1\" class=\"dataframe\">\n",
              "  <thead>\n",
              "    <tr style=\"text-align: right;\">\n",
              "      <th></th>\n",
              "      <th>nome</th>\n",
              "      <th>cpf</th>\n",
              "      <th>matricula_servidor</th>\n",
              "      <th>nome_orgao</th>\n",
              "      <th>sigla_orgao</th>\n",
              "      <th>codigo_orgao_superior</th>\n",
              "      <th>cargo</th>\n",
              "      <th>classe</th>\n",
              "      <th>padrao</th>\n",
              "      <th>referencia</th>\n",
              "      <th>nivel</th>\n",
              "      <th>tipo_aposentadoria</th>\n",
              "      <th>fundamentacao_inatividade</th>\n",
              "      <th>nome_diploma_legal</th>\n",
              "      <th>data_diploma_legal</th>\n",
              "      <th>ocorrencia_ingresso</th>\n",
              "      <th>data_ingresso</th>\n",
              "      <th>salario</th>\n",
              "    </tr>\n",
              "  </thead>\n",
              "  <tbody>\n",
              "    <tr>\n",
              "      <th>0</th>\n",
              "      <td>Nome</td>\n",
              "      <td>CPF</td>\n",
              "      <td>Matricula</td>\n",
              "      <td>Orgao</td>\n",
              "      <td>Sigla Orgao</td>\n",
              "      <td>Orgao vinculacao</td>\n",
              "      <td>Cargo emprego</td>\n",
              "      <td>Classe</td>\n",
              "      <td>Padrao</td>\n",
              "      <td>Referencia</td>\n",
              "      <td>Nivel</td>\n",
              "      <td>Tipo aposentadoria</td>\n",
              "      <td>Fund legal aposentadoria</td>\n",
              "      <td>Portaria aposentadoria</td>\n",
              "      <td>Dt ocorrencia inatividade</td>\n",
              "      <td>Nome ocorrencia</td>\n",
              "      <td>Dt ingresso servico publico</td>\n",
              "      <td>Valor aposentadoria                           ...</td>\n",
              "    </tr>\n",
              "    <tr>\n",
              "      <th>1</th>\n",
              "      <td>ANTONIO ALVES BEZERRA                         ...</td>\n",
              "      <td>***686441**</td>\n",
              "      <td>130000000029</td>\n",
              "      <td>MINIST.DA AGRICULTURA,PECUARIA E ABAST.</td>\n",
              "      <td>MAPA</td>\n",
              "      <td>00000</td>\n",
              "      <td>AGENTE DE VIGILANCIA</td>\n",
              "      <td>S</td>\n",
              "      <td>II</td>\n",
              "      <td>00</td>\n",
              "      <td>000</td>\n",
              "      <td>VOLUNTARIA</td>\n",
              "      <td>APOS. VOLUNTARIA C/PROVENTOS INTEGRAIS</td>\n",
              "      <td>PORTARIA NO. 63194 PUBLICADO EM 30DEZ1994     ...</td>\n",
              "      <td>30121994</td>\n",
              "      <td>NOMEACAO PARA CARGO                           ...</td>\n",
              "      <td>15061962</td>\n",
              "      <td>2.596,79</td>\n",
              "    </tr>\n",
              "    <tr>\n",
              "      <th>2</th>\n",
              "      <td>ANTONIO CARLOS CONCEICAO MARTINS              ...</td>\n",
              "      <td>***423941**</td>\n",
              "      <td>130000000033</td>\n",
              "      <td>MINIST.DA AGRICULTURA,PECUARIA E ABAST.</td>\n",
              "      <td>MAPA</td>\n",
              "      <td>00000</td>\n",
              "      <td>ESTATISTICO</td>\n",
              "      <td>S</td>\n",
              "      <td>III</td>\n",
              "      <td>00</td>\n",
              "      <td>000</td>\n",
              "      <td>VOLUNTARIA</td>\n",
              "      <td>CF 40 III A</td>\n",
              "      <td>PORTARIA NO. 26 PUBLICADO EM 31JAN1995        ...</td>\n",
              "      <td>31011995</td>\n",
              "      <td>ADMISSAO SEM CONCURSO PUBLICO                 ...</td>\n",
              "      <td>15061962</td>\n",
              "      <td>10.750,99</td>\n",
              "    </tr>\n",
              "    <tr>\n",
              "      <th>3</th>\n",
              "      <td>ARLINDA COSTA GUTEMBERG                       ...</td>\n",
              "      <td>***063691**</td>\n",
              "      <td>130000000048</td>\n",
              "      <td>MINIST.DA AGRICULTURA,PECUARIA E ABAST.</td>\n",
              "      <td>MAPA</td>\n",
              "      <td>00000</td>\n",
              "      <td>AUXILIAR DE ENFERMAGEM</td>\n",
              "      <td>S</td>\n",
              "      <td>III</td>\n",
              "      <td>00</td>\n",
              "      <td>000</td>\n",
              "      <td>VOLUNTARIA</td>\n",
              "      <td>APOS. VOLUNTARIA C/PROVENTOS INTEGRAIS</td>\n",
              "      <td>PORTARIA NO. 341 PUBLICADO EM 01JUL1990       ...</td>\n",
              "      <td>01071990</td>\n",
              "      <td>ADMISSAO SEM CONCURSO PUBLICO                 ...</td>\n",
              "      <td>15061962</td>\n",
              "      <td>3.960,76</td>\n",
              "    </tr>\n",
              "    <tr>\n",
              "      <th>4</th>\n",
              "      <td>BENTO MOREIRA LIMA JUNIOR                     ...</td>\n",
              "      <td>***460301**</td>\n",
              "      <td>130000000061</td>\n",
              "      <td>MINIST.DA AGRICULTURA,PECUARIA E ABAST.</td>\n",
              "      <td>MAPA</td>\n",
              "      <td>00000</td>\n",
              "      <td>AUDITOR FISCAL FEDERAL AGROPECUARIO</td>\n",
              "      <td>S</td>\n",
              "      <td>IV</td>\n",
              "      <td>00</td>\n",
              "      <td>000</td>\n",
              "      <td>APOSENTADORIA POR INVALIDEZ</td>\n",
              "      <td>CF 40 I INT</td>\n",
              "      <td>LEI NO. 21050 PUBLICADO EM 02JUL1990          ...</td>\n",
              "      <td>02071990</td>\n",
              "      <td>ADMISSAO SEM CONCURSO PUBLICO                 ...</td>\n",
              "      <td>08061961</td>\n",
              "      <td>19.433,65</td>\n",
              "    </tr>\n",
              "    <tr>\n",
              "      <th>...</th>\n",
              "      <td>...</td>\n",
              "      <td>...</td>\n",
              "      <td>...</td>\n",
              "      <td>...</td>\n",
              "      <td>...</td>\n",
              "      <td>...</td>\n",
              "      <td>...</td>\n",
              "      <td>...</td>\n",
              "      <td>...</td>\n",
              "      <td>...</td>\n",
              "      <td>...</td>\n",
              "      <td>...</td>\n",
              "      <td>...</td>\n",
              "      <td>...</td>\n",
              "      <td>...</td>\n",
              "      <td>...</td>\n",
              "      <td>...</td>\n",
              "      <td>...</td>\n",
              "    </tr>\n",
              "    <tr>\n",
              "      <th>417215</th>\n",
              "      <td>WALDIR TEIXEIRA                               ...</td>\n",
              "      <td>***952937**</td>\n",
              "      <td>700000970456</td>\n",
              "      <td>COMANDO DA MARINHA</td>\n",
              "      <td>CM</td>\n",
              "      <td>40105</td>\n",
              "      <td>AUXILIAR OPERAC EM AGROPECUARIA</td>\n",
              "      <td>S</td>\n",
              "      <td>III</td>\n",
              "      <td>0</td>\n",
              "      <td>0</td>\n",
              "      <td>VOLUNTARIA</td>\n",
              "      <td>EC47 3Ì</td>\n",
              "      <td>PORT 001278/2010, BHMN PUB: DO 11NOV2010      ...</td>\n",
              "      <td>11112010</td>\n",
              "      <td>ADMISSAO SEM CONCURSO PUBLICO                 ...</td>\n",
              "      <td>17041984</td>\n",
              "      <td>2.598,22</td>\n",
              "    </tr>\n",
              "    <tr>\n",
              "      <th>417216</th>\n",
              "      <td>MARIA ESTRELA NUNES QUEIROZ                   ...</td>\n",
              "      <td>***738862**</td>\n",
              "      <td>700000956827</td>\n",
              "      <td>COMANDO DA MARINHA</td>\n",
              "      <td>CM</td>\n",
              "      <td>40105</td>\n",
              "      <td>AGENTE ADMINISTRATIVO</td>\n",
              "      <td>S</td>\n",
              "      <td>III</td>\n",
              "      <td>0</td>\n",
              "      <td>0</td>\n",
              "      <td>VOLUNTARIA</td>\n",
              "      <td>EC47 3Ì</td>\n",
              "      <td>PORT 000199/2015, COM4DN PUB: DO 18SET2015    ...</td>\n",
              "      <td>18092015</td>\n",
              "      <td>ADMISSAO POR CONCURSO PUBLICO                 ...</td>\n",
              "      <td>17041985</td>\n",
              "      <td>4.356,73</td>\n",
              "    </tr>\n",
              "    <tr>\n",
              "      <th>417217</th>\n",
              "      <td>NEIDE PEREIRA CEZARIO                         ...</td>\n",
              "      <td>***531387**</td>\n",
              "      <td>700000974857</td>\n",
              "      <td>COMANDO DA MARINHA</td>\n",
              "      <td>CM</td>\n",
              "      <td>40105</td>\n",
              "      <td>AGENTE ADMINISTRATIVO</td>\n",
              "      <td>S</td>\n",
              "      <td>III</td>\n",
              "      <td>0</td>\n",
              "      <td>0</td>\n",
              "      <td>VOLUNTARIA</td>\n",
              "      <td>EC47 3Ì</td>\n",
              "      <td>PORT 000819/2015, CDAM PUB: DO 21OUT2015      ...</td>\n",
              "      <td>21102015</td>\n",
              "      <td>ADMISSAO SEM CONCURSO PUBLICO                 ...</td>\n",
              "      <td>04101988</td>\n",
              "      <td>3.197,45</td>\n",
              "    </tr>\n",
              "    <tr>\n",
              "      <th>417218</th>\n",
              "      <td>JURACY ESTEVAM ALQUIE                         ...</td>\n",
              "      <td>***771101**</td>\n",
              "      <td>700002335071</td>\n",
              "      <td>COMANDO DA MARINHA</td>\n",
              "      <td>CM</td>\n",
              "      <td>40105</td>\n",
              "      <td>AGENTE ADMINISTRATIVO</td>\n",
              "      <td>S</td>\n",
              "      <td>III</td>\n",
              "      <td>0</td>\n",
              "      <td>0</td>\n",
              "      <td>COMPULSORIA</td>\n",
              "      <td>EC41 40 II</td>\n",
              "      <td>PORT 000635/2018, DPCVM PUB: DO 31JUL2018     ...</td>\n",
              "      <td>17012008</td>\n",
              "      <td>DECISAO JUDICIAL                              ...</td>\n",
              "      <td>02121973</td>\n",
              "      <td>3.756,30</td>\n",
              "    </tr>\n",
              "    <tr>\n",
              "      <th>417219</th>\n",
              "      <td>HERMANO FERREIRA MARTINS                      ...</td>\n",
              "      <td>***289449**</td>\n",
              "      <td>700003144758</td>\n",
              "      <td>COMANDO DA MARINHA</td>\n",
              "      <td>CM</td>\n",
              "      <td>40105</td>\n",
              "      <td>AGENTE ADMINISTRATIVO</td>\n",
              "      <td>C</td>\n",
              "      <td>III</td>\n",
              "      <td>0</td>\n",
              "      <td>0</td>\n",
              "      <td>VOLUNTARIA</td>\n",
              "      <td>CF67 178 C EX-COMBATENTE</td>\n",
              "      <td>PORTARIA 1099 DE 21/07/1976 - DOU 10/08/1976  ...</td>\n",
              "      <td>10081976</td>\n",
              "      <td>ADMISSAO SEM CONCURSO PUBLICO                 ...</td>\n",
              "      <td>16051953</td>\n",
              "      <td>6.538,49</td>\n",
              "    </tr>\n",
              "  </tbody>\n",
              "</table>\n",
              "<p>417220 rows × 18 columns</p>\n",
              "</div>\n",
              "      <button class=\"colab-df-convert\" onclick=\"convertToInteractive('df-3dd2f79e-a98e-4d4b-ba4b-8c113a640d1a')\"\n",
              "              title=\"Convert this dataframe to an interactive table.\"\n",
              "              style=\"display:none;\">\n",
              "        \n",
              "  <svg xmlns=\"http://www.w3.org/2000/svg\" height=\"24px\"viewBox=\"0 0 24 24\"\n",
              "       width=\"24px\">\n",
              "    <path d=\"M0 0h24v24H0V0z\" fill=\"none\"/>\n",
              "    <path d=\"M18.56 5.44l.94 2.06.94-2.06 2.06-.94-2.06-.94-.94-2.06-.94 2.06-2.06.94zm-11 1L8.5 8.5l.94-2.06 2.06-.94-2.06-.94L8.5 2.5l-.94 2.06-2.06.94zm10 10l.94 2.06.94-2.06 2.06-.94-2.06-.94-.94-2.06-.94 2.06-2.06.94z\"/><path d=\"M17.41 7.96l-1.37-1.37c-.4-.4-.92-.59-1.43-.59-.52 0-1.04.2-1.43.59L10.3 9.45l-7.72 7.72c-.78.78-.78 2.05 0 2.83L4 21.41c.39.39.9.59 1.41.59.51 0 1.02-.2 1.41-.59l7.78-7.78 2.81-2.81c.8-.78.8-2.07 0-2.86zM5.41 20L4 18.59l7.72-7.72 1.47 1.35L5.41 20z\"/>\n",
              "  </svg>\n",
              "      </button>\n",
              "      \n",
              "  <style>\n",
              "    .colab-df-container {\n",
              "      display:flex;\n",
              "      flex-wrap:wrap;\n",
              "      gap: 12px;\n",
              "    }\n",
              "\n",
              "    .colab-df-convert {\n",
              "      background-color: #E8F0FE;\n",
              "      border: none;\n",
              "      border-radius: 50%;\n",
              "      cursor: pointer;\n",
              "      display: none;\n",
              "      fill: #1967D2;\n",
              "      height: 32px;\n",
              "      padding: 0 0 0 0;\n",
              "      width: 32px;\n",
              "    }\n",
              "\n",
              "    .colab-df-convert:hover {\n",
              "      background-color: #E2EBFA;\n",
              "      box-shadow: 0px 1px 2px rgba(60, 64, 67, 0.3), 0px 1px 3px 1px rgba(60, 64, 67, 0.15);\n",
              "      fill: #174EA6;\n",
              "    }\n",
              "\n",
              "    [theme=dark] .colab-df-convert {\n",
              "      background-color: #3B4455;\n",
              "      fill: #D2E3FC;\n",
              "    }\n",
              "\n",
              "    [theme=dark] .colab-df-convert:hover {\n",
              "      background-color: #434B5C;\n",
              "      box-shadow: 0px 1px 3px 1px rgba(0, 0, 0, 0.15);\n",
              "      filter: drop-shadow(0px 1px 2px rgba(0, 0, 0, 0.3));\n",
              "      fill: #FFFFFF;\n",
              "    }\n",
              "  </style>\n",
              "\n",
              "      <script>\n",
              "        const buttonEl =\n",
              "          document.querySelector('#df-3dd2f79e-a98e-4d4b-ba4b-8c113a640d1a button.colab-df-convert');\n",
              "        buttonEl.style.display =\n",
              "          google.colab.kernel.accessAllowed ? 'block' : 'none';\n",
              "\n",
              "        async function convertToInteractive(key) {\n",
              "          const element = document.querySelector('#df-3dd2f79e-a98e-4d4b-ba4b-8c113a640d1a');\n",
              "          const dataTable =\n",
              "            await google.colab.kernel.invokeFunction('convertToInteractive',\n",
              "                                                     [key], {});\n",
              "          if (!dataTable) return;\n",
              "\n",
              "          const docLinkHtml = 'Like what you see? Visit the ' +\n",
              "            '<a target=\"_blank\" href=https://colab.research.google.com/notebooks/data_table.ipynb>data table notebook</a>'\n",
              "            + ' to learn more about interactive tables.';\n",
              "          element.innerHTML = '';\n",
              "          dataTable['output_type'] = 'display_data';\n",
              "          await google.colab.output.renderOutput(dataTable, element);\n",
              "          const docLink = document.createElement('div');\n",
              "          docLink.innerHTML = docLinkHtml;\n",
              "          element.appendChild(docLink);\n",
              "        }\n",
              "      </script>\n",
              "    </div>\n",
              "  </div>\n",
              "  "
            ]
          },
          "metadata": {},
          "execution_count": 5
        }
      ]
    },
    {
      "cell_type": "code",
      "source": [
        "df.drop([0],inplace=True)"
      ],
      "metadata": {
        "id": "dHcdtjO2Piqc"
      },
      "execution_count": null,
      "outputs": []
    },
    {
      "cell_type": "code",
      "source": [
        "new = []\n",
        "log=open('log.txt','w')\n",
        "for i in df.index.values:\n",
        "    temp = re.sub('[^\\d]','',df['salario'][i].strip())\n",
        "    try:\n",
        "        log.write(f\"Original:{df['salario'][i].strip()} Novo: {int(temp)/100}\\n\")\n",
        "        new.append(int(temp)/100)\n",
        "    except:\n",
        "        new.append(np.nan)\n",
        "new\n",
        "log.close()"
      ],
      "metadata": {
        "id": "GwboRE6nexwD"
      },
      "execution_count": null,
      "outputs": []
    },
    {
      "cell_type": "code",
      "source": [
        "df['salario_float']=new\n",
        "df_dropped = df.dropna()\n",
        "df_dropped"
      ],
      "metadata": {
        "colab": {
          "base_uri": "https://localhost:8080/",
          "height": 904
        },
        "id": "UQ8Mbt_lcdeP",
        "outputId": "edaf4693-6420-429c-9e5e-399187f8389e"
      },
      "execution_count": null,
      "outputs": [
        {
          "output_type": "execute_result",
          "data": {
            "text/plain": [
              "                                                     nome          cpf  \\\n",
              "1       ANTONIO ALVES BEZERRA                         ...  ***686441**   \n",
              "2       ANTONIO CARLOS CONCEICAO MARTINS              ...  ***423941**   \n",
              "3       ARLINDA COSTA GUTEMBERG                       ...  ***063691**   \n",
              "4       BENTO MOREIRA LIMA JUNIOR                     ...  ***460301**   \n",
              "5       BERENICE MOREIRA SANTOS                       ...  ***021701**   \n",
              "...                                                   ...          ...   \n",
              "417215  WALDIR TEIXEIRA                               ...  ***952937**   \n",
              "417216  MARIA ESTRELA NUNES QUEIROZ                   ...  ***738862**   \n",
              "417217  NEIDE PEREIRA CEZARIO                         ...  ***531387**   \n",
              "417218  JURACY ESTEVAM ALQUIE                         ...  ***771101**   \n",
              "417219  HERMANO FERREIRA MARTINS                      ...  ***289449**   \n",
              "\n",
              "       matricula_servidor                                nome_orgao  \\\n",
              "1            130000000029  MINIST.DA AGRICULTURA,PECUARIA E ABAST.    \n",
              "2            130000000033  MINIST.DA AGRICULTURA,PECUARIA E ABAST.    \n",
              "3            130000000048  MINIST.DA AGRICULTURA,PECUARIA E ABAST.    \n",
              "4            130000000061  MINIST.DA AGRICULTURA,PECUARIA E ABAST.    \n",
              "5            130000000062  MINIST.DA AGRICULTURA,PECUARIA E ABAST.    \n",
              "...                   ...                                       ...   \n",
              "417215       700000970456  COMANDO DA MARINHA                         \n",
              "417216       700000956827  COMANDO DA MARINHA                         \n",
              "417217       700000974857  COMANDO DA MARINHA                         \n",
              "417218       700002335071  COMANDO DA MARINHA                         \n",
              "417219       700003144758  COMANDO DA MARINHA                         \n",
              "\n",
              "       sigla_orgao codigo_orgao_superior  \\\n",
              "1       MAPA                       00000   \n",
              "2       MAPA                       00000   \n",
              "3       MAPA                       00000   \n",
              "4       MAPA                       00000   \n",
              "5       MAPA                       00000   \n",
              "...            ...                   ...   \n",
              "417215  CM                         40105   \n",
              "417216  CM                         40105   \n",
              "417217  CM                         40105   \n",
              "417218  CM                         40105   \n",
              "417219  CM                         40105   \n",
              "\n",
              "                                           cargo classe padrao referencia  \\\n",
              "1       AGENTE DE VIGILANCIA                          S    II          00   \n",
              "2       ESTATISTICO                                   S    III         00   \n",
              "3       AUXILIAR DE ENFERMAGEM                        S    III         00   \n",
              "4       AUDITOR FISCAL FEDERAL AGROPECUARIO           S    IV          00   \n",
              "5       AGENTE ADMINISTRATIVO                         S    III         00   \n",
              "...                                          ...    ...    ...        ...   \n",
              "417215  AUXILIAR OPERAC EM AGROPECUARIA               S    III          0   \n",
              "417216  AGENTE ADMINISTRATIVO                         S    III          0   \n",
              "417217  AGENTE ADMINISTRATIVO                         S    III          0   \n",
              "417218  AGENTE ADMINISTRATIVO                         S    III          0   \n",
              "417219  AGENTE ADMINISTRATIVO                         C    III          0   \n",
              "\n",
              "       nivel           tipo_aposentadoria  \\\n",
              "1        000  VOLUNTARIA                    \n",
              "2        000  VOLUNTARIA                    \n",
              "3        000  VOLUNTARIA                    \n",
              "4        000  APOSENTADORIA POR INVALIDEZ   \n",
              "5        000  VOLUNTARIA                    \n",
              "...      ...                          ...   \n",
              "417215     0  VOLUNTARIA                    \n",
              "417216     0  VOLUNTARIA                    \n",
              "417217     0  VOLUNTARIA                    \n",
              "417218     0  COMPULSORIA                   \n",
              "417219     0  VOLUNTARIA                    \n",
              "\n",
              "                       fundamentacao_inatividade  \\\n",
              "1       APOS. VOLUNTARIA C/PROVENTOS INTEGRAIS     \n",
              "2       CF 40 III A                                \n",
              "3       APOS. VOLUNTARIA C/PROVENTOS INTEGRAIS     \n",
              "4       CF 40 I INT                                \n",
              "5       VOLUNTARIA (ART. 186 ITEM III ALINEA A)    \n",
              "...                                          ...   \n",
              "417215  EC47 3Ì                                    \n",
              "417216  EC47 3Ì                                    \n",
              "417217  EC47 3Ì                                    \n",
              "417218  EC41 40 II                                 \n",
              "417219  CF67 178 C EX-COMBATENTE                   \n",
              "\n",
              "                                       nome_diploma_legal data_diploma_legal  \\\n",
              "1       PORTARIA NO. 63194 PUBLICADO EM 30DEZ1994     ...           30121994   \n",
              "2       PORTARIA NO. 26 PUBLICADO EM 31JAN1995        ...           31011995   \n",
              "3       PORTARIA NO. 341 PUBLICADO EM 01JUL1990       ...           01071990   \n",
              "4       LEI NO. 21050 PUBLICADO EM 02JUL1990          ...           02071990   \n",
              "5       PORTARIA NO. 253 PUBLICADO EM 31MAI1990       ...           31051990   \n",
              "...                                                   ...                ...   \n",
              "417215  PORT 001278/2010, BHMN PUB: DO 11NOV2010      ...           11112010   \n",
              "417216  PORT 000199/2015, COM4DN PUB: DO 18SET2015    ...           18092015   \n",
              "417217  PORT 000819/2015, CDAM PUB: DO 21OUT2015      ...           21102015   \n",
              "417218  PORT 000635/2018, DPCVM PUB: DO 31JUL2018     ...           17012008   \n",
              "417219  PORTARIA 1099 DE 21/07/1976 - DOU 10/08/1976  ...           10081976   \n",
              "\n",
              "                                      ocorrencia_ingresso data_ingresso  \\\n",
              "1       NOMEACAO PARA CARGO                           ...      15061962   \n",
              "2       ADMISSAO SEM CONCURSO PUBLICO                 ...      15061962   \n",
              "3       ADMISSAO SEM CONCURSO PUBLICO                 ...      15061962   \n",
              "4       ADMISSAO SEM CONCURSO PUBLICO                 ...      08061961   \n",
              "5       NOMEACAO PARA CARGO                           ...      21121961   \n",
              "...                                                   ...           ...   \n",
              "417215  ADMISSAO SEM CONCURSO PUBLICO                 ...      17041984   \n",
              "417216  ADMISSAO POR CONCURSO PUBLICO                 ...      17041985   \n",
              "417217  ADMISSAO SEM CONCURSO PUBLICO                 ...      04101988   \n",
              "417218  DECISAO JUDICIAL                              ...      02121973   \n",
              "417219  ADMISSAO SEM CONCURSO PUBLICO                 ...      16051953   \n",
              "\n",
              "               salario  salario_float  \n",
              "1             2.596,79        2596.79  \n",
              "2            10.750,99       10750.99  \n",
              "3             3.960,76        3960.76  \n",
              "4            19.433,65       19433.65  \n",
              "5             3.430,07        3430.07  \n",
              "...                ...            ...  \n",
              "417215        2.598,22        2598.22  \n",
              "417216        4.356,73        4356.73  \n",
              "417217        3.197,45        3197.45  \n",
              "417218        3.756,30        3756.30  \n",
              "417219        6.538,49        6538.49  \n",
              "\n",
              "[417214 rows x 19 columns]"
            ],
            "text/html": [
              "\n",
              "  <div id=\"df-64340bdd-0469-4ea6-bdc1-b24e092a87ff\">\n",
              "    <div class=\"colab-df-container\">\n",
              "      <div>\n",
              "<style scoped>\n",
              "    .dataframe tbody tr th:only-of-type {\n",
              "        vertical-align: middle;\n",
              "    }\n",
              "\n",
              "    .dataframe tbody tr th {\n",
              "        vertical-align: top;\n",
              "    }\n",
              "\n",
              "    .dataframe thead th {\n",
              "        text-align: right;\n",
              "    }\n",
              "</style>\n",
              "<table border=\"1\" class=\"dataframe\">\n",
              "  <thead>\n",
              "    <tr style=\"text-align: right;\">\n",
              "      <th></th>\n",
              "      <th>nome</th>\n",
              "      <th>cpf</th>\n",
              "      <th>matricula_servidor</th>\n",
              "      <th>nome_orgao</th>\n",
              "      <th>sigla_orgao</th>\n",
              "      <th>codigo_orgao_superior</th>\n",
              "      <th>cargo</th>\n",
              "      <th>classe</th>\n",
              "      <th>padrao</th>\n",
              "      <th>referencia</th>\n",
              "      <th>nivel</th>\n",
              "      <th>tipo_aposentadoria</th>\n",
              "      <th>fundamentacao_inatividade</th>\n",
              "      <th>nome_diploma_legal</th>\n",
              "      <th>data_diploma_legal</th>\n",
              "      <th>ocorrencia_ingresso</th>\n",
              "      <th>data_ingresso</th>\n",
              "      <th>salario</th>\n",
              "      <th>salario_float</th>\n",
              "    </tr>\n",
              "  </thead>\n",
              "  <tbody>\n",
              "    <tr>\n",
              "      <th>1</th>\n",
              "      <td>ANTONIO ALVES BEZERRA                         ...</td>\n",
              "      <td>***686441**</td>\n",
              "      <td>130000000029</td>\n",
              "      <td>MINIST.DA AGRICULTURA,PECUARIA E ABAST.</td>\n",
              "      <td>MAPA</td>\n",
              "      <td>00000</td>\n",
              "      <td>AGENTE DE VIGILANCIA</td>\n",
              "      <td>S</td>\n",
              "      <td>II</td>\n",
              "      <td>00</td>\n",
              "      <td>000</td>\n",
              "      <td>VOLUNTARIA</td>\n",
              "      <td>APOS. VOLUNTARIA C/PROVENTOS INTEGRAIS</td>\n",
              "      <td>PORTARIA NO. 63194 PUBLICADO EM 30DEZ1994     ...</td>\n",
              "      <td>30121994</td>\n",
              "      <td>NOMEACAO PARA CARGO                           ...</td>\n",
              "      <td>15061962</td>\n",
              "      <td>2.596,79</td>\n",
              "      <td>2596.79</td>\n",
              "    </tr>\n",
              "    <tr>\n",
              "      <th>2</th>\n",
              "      <td>ANTONIO CARLOS CONCEICAO MARTINS              ...</td>\n",
              "      <td>***423941**</td>\n",
              "      <td>130000000033</td>\n",
              "      <td>MINIST.DA AGRICULTURA,PECUARIA E ABAST.</td>\n",
              "      <td>MAPA</td>\n",
              "      <td>00000</td>\n",
              "      <td>ESTATISTICO</td>\n",
              "      <td>S</td>\n",
              "      <td>III</td>\n",
              "      <td>00</td>\n",
              "      <td>000</td>\n",
              "      <td>VOLUNTARIA</td>\n",
              "      <td>CF 40 III A</td>\n",
              "      <td>PORTARIA NO. 26 PUBLICADO EM 31JAN1995        ...</td>\n",
              "      <td>31011995</td>\n",
              "      <td>ADMISSAO SEM CONCURSO PUBLICO                 ...</td>\n",
              "      <td>15061962</td>\n",
              "      <td>10.750,99</td>\n",
              "      <td>10750.99</td>\n",
              "    </tr>\n",
              "    <tr>\n",
              "      <th>3</th>\n",
              "      <td>ARLINDA COSTA GUTEMBERG                       ...</td>\n",
              "      <td>***063691**</td>\n",
              "      <td>130000000048</td>\n",
              "      <td>MINIST.DA AGRICULTURA,PECUARIA E ABAST.</td>\n",
              "      <td>MAPA</td>\n",
              "      <td>00000</td>\n",
              "      <td>AUXILIAR DE ENFERMAGEM</td>\n",
              "      <td>S</td>\n",
              "      <td>III</td>\n",
              "      <td>00</td>\n",
              "      <td>000</td>\n",
              "      <td>VOLUNTARIA</td>\n",
              "      <td>APOS. VOLUNTARIA C/PROVENTOS INTEGRAIS</td>\n",
              "      <td>PORTARIA NO. 341 PUBLICADO EM 01JUL1990       ...</td>\n",
              "      <td>01071990</td>\n",
              "      <td>ADMISSAO SEM CONCURSO PUBLICO                 ...</td>\n",
              "      <td>15061962</td>\n",
              "      <td>3.960,76</td>\n",
              "      <td>3960.76</td>\n",
              "    </tr>\n",
              "    <tr>\n",
              "      <th>4</th>\n",
              "      <td>BENTO MOREIRA LIMA JUNIOR                     ...</td>\n",
              "      <td>***460301**</td>\n",
              "      <td>130000000061</td>\n",
              "      <td>MINIST.DA AGRICULTURA,PECUARIA E ABAST.</td>\n",
              "      <td>MAPA</td>\n",
              "      <td>00000</td>\n",
              "      <td>AUDITOR FISCAL FEDERAL AGROPECUARIO</td>\n",
              "      <td>S</td>\n",
              "      <td>IV</td>\n",
              "      <td>00</td>\n",
              "      <td>000</td>\n",
              "      <td>APOSENTADORIA POR INVALIDEZ</td>\n",
              "      <td>CF 40 I INT</td>\n",
              "      <td>LEI NO. 21050 PUBLICADO EM 02JUL1990          ...</td>\n",
              "      <td>02071990</td>\n",
              "      <td>ADMISSAO SEM CONCURSO PUBLICO                 ...</td>\n",
              "      <td>08061961</td>\n",
              "      <td>19.433,65</td>\n",
              "      <td>19433.65</td>\n",
              "    </tr>\n",
              "    <tr>\n",
              "      <th>5</th>\n",
              "      <td>BERENICE MOREIRA SANTOS                       ...</td>\n",
              "      <td>***021701**</td>\n",
              "      <td>130000000062</td>\n",
              "      <td>MINIST.DA AGRICULTURA,PECUARIA E ABAST.</td>\n",
              "      <td>MAPA</td>\n",
              "      <td>00000</td>\n",
              "      <td>AGENTE ADMINISTRATIVO</td>\n",
              "      <td>S</td>\n",
              "      <td>III</td>\n",
              "      <td>00</td>\n",
              "      <td>000</td>\n",
              "      <td>VOLUNTARIA</td>\n",
              "      <td>VOLUNTARIA (ART. 186 ITEM III ALINEA A)</td>\n",
              "      <td>PORTARIA NO. 253 PUBLICADO EM 31MAI1990       ...</td>\n",
              "      <td>31051990</td>\n",
              "      <td>NOMEACAO PARA CARGO                           ...</td>\n",
              "      <td>21121961</td>\n",
              "      <td>3.430,07</td>\n",
              "      <td>3430.07</td>\n",
              "    </tr>\n",
              "    <tr>\n",
              "      <th>...</th>\n",
              "      <td>...</td>\n",
              "      <td>...</td>\n",
              "      <td>...</td>\n",
              "      <td>...</td>\n",
              "      <td>...</td>\n",
              "      <td>...</td>\n",
              "      <td>...</td>\n",
              "      <td>...</td>\n",
              "      <td>...</td>\n",
              "      <td>...</td>\n",
              "      <td>...</td>\n",
              "      <td>...</td>\n",
              "      <td>...</td>\n",
              "      <td>...</td>\n",
              "      <td>...</td>\n",
              "      <td>...</td>\n",
              "      <td>...</td>\n",
              "      <td>...</td>\n",
              "      <td>...</td>\n",
              "    </tr>\n",
              "    <tr>\n",
              "      <th>417215</th>\n",
              "      <td>WALDIR TEIXEIRA                               ...</td>\n",
              "      <td>***952937**</td>\n",
              "      <td>700000970456</td>\n",
              "      <td>COMANDO DA MARINHA</td>\n",
              "      <td>CM</td>\n",
              "      <td>40105</td>\n",
              "      <td>AUXILIAR OPERAC EM AGROPECUARIA</td>\n",
              "      <td>S</td>\n",
              "      <td>III</td>\n",
              "      <td>0</td>\n",
              "      <td>0</td>\n",
              "      <td>VOLUNTARIA</td>\n",
              "      <td>EC47 3Ì</td>\n",
              "      <td>PORT 001278/2010, BHMN PUB: DO 11NOV2010      ...</td>\n",
              "      <td>11112010</td>\n",
              "      <td>ADMISSAO SEM CONCURSO PUBLICO                 ...</td>\n",
              "      <td>17041984</td>\n",
              "      <td>2.598,22</td>\n",
              "      <td>2598.22</td>\n",
              "    </tr>\n",
              "    <tr>\n",
              "      <th>417216</th>\n",
              "      <td>MARIA ESTRELA NUNES QUEIROZ                   ...</td>\n",
              "      <td>***738862**</td>\n",
              "      <td>700000956827</td>\n",
              "      <td>COMANDO DA MARINHA</td>\n",
              "      <td>CM</td>\n",
              "      <td>40105</td>\n",
              "      <td>AGENTE ADMINISTRATIVO</td>\n",
              "      <td>S</td>\n",
              "      <td>III</td>\n",
              "      <td>0</td>\n",
              "      <td>0</td>\n",
              "      <td>VOLUNTARIA</td>\n",
              "      <td>EC47 3Ì</td>\n",
              "      <td>PORT 000199/2015, COM4DN PUB: DO 18SET2015    ...</td>\n",
              "      <td>18092015</td>\n",
              "      <td>ADMISSAO POR CONCURSO PUBLICO                 ...</td>\n",
              "      <td>17041985</td>\n",
              "      <td>4.356,73</td>\n",
              "      <td>4356.73</td>\n",
              "    </tr>\n",
              "    <tr>\n",
              "      <th>417217</th>\n",
              "      <td>NEIDE PEREIRA CEZARIO                         ...</td>\n",
              "      <td>***531387**</td>\n",
              "      <td>700000974857</td>\n",
              "      <td>COMANDO DA MARINHA</td>\n",
              "      <td>CM</td>\n",
              "      <td>40105</td>\n",
              "      <td>AGENTE ADMINISTRATIVO</td>\n",
              "      <td>S</td>\n",
              "      <td>III</td>\n",
              "      <td>0</td>\n",
              "      <td>0</td>\n",
              "      <td>VOLUNTARIA</td>\n",
              "      <td>EC47 3Ì</td>\n",
              "      <td>PORT 000819/2015, CDAM PUB: DO 21OUT2015      ...</td>\n",
              "      <td>21102015</td>\n",
              "      <td>ADMISSAO SEM CONCURSO PUBLICO                 ...</td>\n",
              "      <td>04101988</td>\n",
              "      <td>3.197,45</td>\n",
              "      <td>3197.45</td>\n",
              "    </tr>\n",
              "    <tr>\n",
              "      <th>417218</th>\n",
              "      <td>JURACY ESTEVAM ALQUIE                         ...</td>\n",
              "      <td>***771101**</td>\n",
              "      <td>700002335071</td>\n",
              "      <td>COMANDO DA MARINHA</td>\n",
              "      <td>CM</td>\n",
              "      <td>40105</td>\n",
              "      <td>AGENTE ADMINISTRATIVO</td>\n",
              "      <td>S</td>\n",
              "      <td>III</td>\n",
              "      <td>0</td>\n",
              "      <td>0</td>\n",
              "      <td>COMPULSORIA</td>\n",
              "      <td>EC41 40 II</td>\n",
              "      <td>PORT 000635/2018, DPCVM PUB: DO 31JUL2018     ...</td>\n",
              "      <td>17012008</td>\n",
              "      <td>DECISAO JUDICIAL                              ...</td>\n",
              "      <td>02121973</td>\n",
              "      <td>3.756,30</td>\n",
              "      <td>3756.30</td>\n",
              "    </tr>\n",
              "    <tr>\n",
              "      <th>417219</th>\n",
              "      <td>HERMANO FERREIRA MARTINS                      ...</td>\n",
              "      <td>***289449**</td>\n",
              "      <td>700003144758</td>\n",
              "      <td>COMANDO DA MARINHA</td>\n",
              "      <td>CM</td>\n",
              "      <td>40105</td>\n",
              "      <td>AGENTE ADMINISTRATIVO</td>\n",
              "      <td>C</td>\n",
              "      <td>III</td>\n",
              "      <td>0</td>\n",
              "      <td>0</td>\n",
              "      <td>VOLUNTARIA</td>\n",
              "      <td>CF67 178 C EX-COMBATENTE</td>\n",
              "      <td>PORTARIA 1099 DE 21/07/1976 - DOU 10/08/1976  ...</td>\n",
              "      <td>10081976</td>\n",
              "      <td>ADMISSAO SEM CONCURSO PUBLICO                 ...</td>\n",
              "      <td>16051953</td>\n",
              "      <td>6.538,49</td>\n",
              "      <td>6538.49</td>\n",
              "    </tr>\n",
              "  </tbody>\n",
              "</table>\n",
              "<p>417214 rows × 19 columns</p>\n",
              "</div>\n",
              "      <button class=\"colab-df-convert\" onclick=\"convertToInteractive('df-64340bdd-0469-4ea6-bdc1-b24e092a87ff')\"\n",
              "              title=\"Convert this dataframe to an interactive table.\"\n",
              "              style=\"display:none;\">\n",
              "        \n",
              "  <svg xmlns=\"http://www.w3.org/2000/svg\" height=\"24px\"viewBox=\"0 0 24 24\"\n",
              "       width=\"24px\">\n",
              "    <path d=\"M0 0h24v24H0V0z\" fill=\"none\"/>\n",
              "    <path d=\"M18.56 5.44l.94 2.06.94-2.06 2.06-.94-2.06-.94-.94-2.06-.94 2.06-2.06.94zm-11 1L8.5 8.5l.94-2.06 2.06-.94-2.06-.94L8.5 2.5l-.94 2.06-2.06.94zm10 10l.94 2.06.94-2.06 2.06-.94-2.06-.94-.94-2.06-.94 2.06-2.06.94z\"/><path d=\"M17.41 7.96l-1.37-1.37c-.4-.4-.92-.59-1.43-.59-.52 0-1.04.2-1.43.59L10.3 9.45l-7.72 7.72c-.78.78-.78 2.05 0 2.83L4 21.41c.39.39.9.59 1.41.59.51 0 1.02-.2 1.41-.59l7.78-7.78 2.81-2.81c.8-.78.8-2.07 0-2.86zM5.41 20L4 18.59l7.72-7.72 1.47 1.35L5.41 20z\"/>\n",
              "  </svg>\n",
              "      </button>\n",
              "      \n",
              "  <style>\n",
              "    .colab-df-container {\n",
              "      display:flex;\n",
              "      flex-wrap:wrap;\n",
              "      gap: 12px;\n",
              "    }\n",
              "\n",
              "    .colab-df-convert {\n",
              "      background-color: #E8F0FE;\n",
              "      border: none;\n",
              "      border-radius: 50%;\n",
              "      cursor: pointer;\n",
              "      display: none;\n",
              "      fill: #1967D2;\n",
              "      height: 32px;\n",
              "      padding: 0 0 0 0;\n",
              "      width: 32px;\n",
              "    }\n",
              "\n",
              "    .colab-df-convert:hover {\n",
              "      background-color: #E2EBFA;\n",
              "      box-shadow: 0px 1px 2px rgba(60, 64, 67, 0.3), 0px 1px 3px 1px rgba(60, 64, 67, 0.15);\n",
              "      fill: #174EA6;\n",
              "    }\n",
              "\n",
              "    [theme=dark] .colab-df-convert {\n",
              "      background-color: #3B4455;\n",
              "      fill: #D2E3FC;\n",
              "    }\n",
              "\n",
              "    [theme=dark] .colab-df-convert:hover {\n",
              "      background-color: #434B5C;\n",
              "      box-shadow: 0px 1px 3px 1px rgba(0, 0, 0, 0.15);\n",
              "      filter: drop-shadow(0px 1px 2px rgba(0, 0, 0, 0.3));\n",
              "      fill: #FFFFFF;\n",
              "    }\n",
              "  </style>\n",
              "\n",
              "      <script>\n",
              "        const buttonEl =\n",
              "          document.querySelector('#df-64340bdd-0469-4ea6-bdc1-b24e092a87ff button.colab-df-convert');\n",
              "        buttonEl.style.display =\n",
              "          google.colab.kernel.accessAllowed ? 'block' : 'none';\n",
              "\n",
              "        async function convertToInteractive(key) {\n",
              "          const element = document.querySelector('#df-64340bdd-0469-4ea6-bdc1-b24e092a87ff');\n",
              "          const dataTable =\n",
              "            await google.colab.kernel.invokeFunction('convertToInteractive',\n",
              "                                                     [key], {});\n",
              "          if (!dataTable) return;\n",
              "\n",
              "          const docLinkHtml = 'Like what you see? Visit the ' +\n",
              "            '<a target=\"_blank\" href=https://colab.research.google.com/notebooks/data_table.ipynb>data table notebook</a>'\n",
              "            + ' to learn more about interactive tables.';\n",
              "          element.innerHTML = '';\n",
              "          dataTable['output_type'] = 'display_data';\n",
              "          await google.colab.output.renderOutput(dataTable, element);\n",
              "          const docLink = document.createElement('div');\n",
              "          docLink.innerHTML = docLinkHtml;\n",
              "          element.appendChild(docLink);\n",
              "        }\n",
              "      </script>\n",
              "    </div>\n",
              "  </div>\n",
              "  "
            ]
          },
          "metadata": {},
          "execution_count": 9
        }
      ]
    },
    {
      "cell_type": "code",
      "source": [
        "df_dropped.to_csv(base_folder+'/conjunto_dados_fixed.csv',index=False)\n"
      ],
      "metadata": {
        "id": "7sD77465ciKg"
      },
      "execution_count": null,
      "outputs": []
    },
    {
      "cell_type": "code",
      "source": [
        "df = df_dropped"
      ],
      "metadata": {
        "id": "na4RipZ_o2KS"
      },
      "execution_count": null,
      "outputs": []
    },
    {
      "cell_type": "code",
      "source": [
        "df.columns"
      ],
      "metadata": {
        "colab": {
          "base_uri": "https://localhost:8080/"
        },
        "id": "ves4PQO7McCk",
        "outputId": "4b1d991c-b3e7-4be9-e1a3-d27a4e3e3834"
      },
      "execution_count": null,
      "outputs": [
        {
          "output_type": "execute_result",
          "data": {
            "text/plain": [
              "Index(['nome', 'cpf', 'matricula_servidor', 'nome_orgao', 'sigla_orgao',\n",
              "       'codigo_orgao_superior', 'cargo', 'classe', 'padrao', 'referencia',\n",
              "       'nivel', 'tipo_aposentadoria', 'fundamentacao_inatividade',\n",
              "       'nome_diploma_legal', 'data_diploma_legal', 'ocorrencia_ingresso',\n",
              "       'data_ingresso', 'salario', 'salario_float'],\n",
              "      dtype='object')"
            ]
          },
          "metadata": {},
          "execution_count": 11
        }
      ]
    },
    {
      "cell_type": "markdown",
      "source": [
        "# Análise exploratória"
      ],
      "metadata": {
        "id": "qZlbs2bvUGCH"
      }
    },
    {
      "cell_type": "markdown",
      "source": [
        "## Análises salariais"
      ],
      "metadata": {
        "id": "hE23zc3YcH20"
      }
    },
    {
      "cell_type": "code",
      "source": [
        "idx = []\n",
        "for i in df.index.values:\n",
        "    if ',' not in df['salario'][i]:\n",
        "        idx.append(i)\n",
        "idx"
      ],
      "metadata": {
        "colab": {
          "base_uri": "https://localhost:8080/"
        },
        "id": "yISdVEwzpiqL",
        "outputId": "d7ceb9c1-b51c-403c-f755-09cd08691d5e"
      },
      "execution_count": null,
      "outputs": [
        {
          "output_type": "execute_result",
          "data": {
            "text/plain": [
              "[2156,\n",
              " 21274,\n",
              " 30877,\n",
              " 30890,\n",
              " 30904,\n",
              " 30926,\n",
              " 30935,\n",
              " 30957,\n",
              " 30976,\n",
              " 30994,\n",
              " 32110,\n",
              " 33996,\n",
              " 34497,\n",
              " 34590,\n",
              " 35042,\n",
              " 35046,\n",
              " 35640,\n",
              " 35907,\n",
              " 35999,\n",
              " 36071,\n",
              " 43078,\n",
              " 47259,\n",
              " 47527,\n",
              " 47530,\n",
              " 47655,\n",
              " 47676,\n",
              " 48558,\n",
              " 49246,\n",
              " 55828,\n",
              " 83577,\n",
              " 83593,\n",
              " 83594,\n",
              " 83604,\n",
              " 86453,\n",
              " 86946,\n",
              " 92373,\n",
              " 93356,\n",
              " 93460,\n",
              " 93742,\n",
              " 98514,\n",
              " 103749,\n",
              " 104572,\n",
              " 109301,\n",
              " 109778,\n",
              " 121363,\n",
              " 122906,\n",
              " 126153,\n",
              " 127566,\n",
              " 171328,\n",
              " 172978,\n",
              " 179592,\n",
              " 192367,\n",
              " 193476,\n",
              " 203856,\n",
              " 203857,\n",
              " 203866,\n",
              " 203868,\n",
              " 203875,\n",
              " 203876,\n",
              " 203882,\n",
              " 203885,\n",
              " 203886,\n",
              " 203890,\n",
              " 203894,\n",
              " 203895,\n",
              " 203896,\n",
              " 203898,\n",
              " 203899,\n",
              " 203913,\n",
              " 203914,\n",
              " 203946,\n",
              " 203963,\n",
              " 203976,\n",
              " 203999,\n",
              " 204005,\n",
              " 204006,\n",
              " 204009,\n",
              " 204021,\n",
              " 204023,\n",
              " 204050,\n",
              " 204051,\n",
              " 204052,\n",
              " 204070,\n",
              " 204073,\n",
              " 204077,\n",
              " 204079,\n",
              " 204083,\n",
              " 204098,\n",
              " 204100,\n",
              " 204102,\n",
              " 204103,\n",
              " 204104,\n",
              " 204106,\n",
              " 204121,\n",
              " 204127,\n",
              " 204132,\n",
              " 204135,\n",
              " 204141,\n",
              " 204156,\n",
              " 204158,\n",
              " 204172,\n",
              " 204190,\n",
              " 204212,\n",
              " 204227,\n",
              " 204228,\n",
              " 204233,\n",
              " 204236,\n",
              " 204245,\n",
              " 204246,\n",
              " 204270,\n",
              " 204291,\n",
              " 204307,\n",
              " 204308,\n",
              " 204363,\n",
              " 204366,\n",
              " 204368,\n",
              " 204381,\n",
              " 204391,\n",
              " 204398,\n",
              " 204400,\n",
              " 204401,\n",
              " 204412,\n",
              " 204414,\n",
              " 204429,\n",
              " 204435,\n",
              " 204446,\n",
              " 204450,\n",
              " 204460,\n",
              " 204481,\n",
              " 204497,\n",
              " 204546,\n",
              " 204549,\n",
              " 204578,\n",
              " 204580,\n",
              " 204583,\n",
              " 204584,\n",
              " 204590,\n",
              " 267193,\n",
              " 269431,\n",
              " 351123,\n",
              " 352348,\n",
              " 362517,\n",
              " 384561,\n",
              " 387843,\n",
              " 416977]"
            ]
          },
          "metadata": {},
          "execution_count": 13
        }
      ]
    },
    {
      "cell_type": "code",
      "source": [
        "df.drop(idx,axis=0,inplace=True)"
      ],
      "metadata": {
        "colab": {
          "base_uri": "https://localhost:8080/"
        },
        "id": "UvGdxzSNprsz",
        "outputId": "531e338e-a562-47b8-8e7b-12b0bcc71944"
      },
      "execution_count": null,
      "outputs": [
        {
          "output_type": "stream",
          "name": "stderr",
          "text": [
            "/usr/local/lib/python3.7/dist-packages/pandas/core/frame.py:4913: SettingWithCopyWarning: \n",
            "A value is trying to be set on a copy of a slice from a DataFrame\n",
            "\n",
            "See the caveats in the documentation: https://pandas.pydata.org/pandas-docs/stable/user_guide/indexing.html#returning-a-view-versus-a-copy\n",
            "  errors=errors,\n"
          ]
        }
      ]
    },
    {
      "cell_type": "code",
      "source": [
        "df.loc[df['salario_float']==119518.84].nome"
      ],
      "metadata": {
        "colab": {
          "base_uri": "https://localhost:8080/"
        },
        "id": "eJG8hfOTdX6q",
        "outputId": "3aad9082-a66b-407d-cd39-1ea2cb992cfd"
      },
      "execution_count": null,
      "outputs": [
        {
          "output_type": "execute_result",
          "data": {
            "text/plain": [
              "70006    RUBENS GIRALDI JENSEN                         ...\n",
              "Name: nome, dtype: object"
            ]
          },
          "metadata": {},
          "execution_count": 20
        }
      ]
    },
    {
      "cell_type": "code",
      "source": [
        "df.groupby(['sigla_orgao']).describe()"
      ],
      "metadata": {
        "colab": {
          "base_uri": "https://localhost:8080/",
          "height": 189
        },
        "id": "M81RyR0bcMCs",
        "outputId": "9bdeb0f1-dc1d-4225-ea54-9ab3c84cdaa2"
      },
      "execution_count": null,
      "outputs": [
        {
          "output_type": "execute_result",
          "data": {
            "text/plain": [
              "            salario_float                                                 \\\n",
              "                    count          mean          std      min        25%   \n",
              "sigla_orgao                                                                \n",
              "ABIN                 74.0   8174.152432  6704.251754  2825.17  4808.0650   \n",
              "AEB                   7.0   5500.125714  3250.416766  2836.34  3590.5850   \n",
              "AGU                3219.0  11898.106875  6966.182311  1692.27  5158.2950   \n",
              "ANA                  20.0  12458.978500  3069.967513  7080.29  9809.7550   \n",
              "ANAC                161.0   7465.455217  2695.338185  1503.81  5484.3700   \n",
              "...                   ...           ...          ...      ...        ...   \n",
              "UNIPAMPA             21.0   5301.536190  3342.735272   998.56  3345.1500   \n",
              "UNIR                368.0   6349.954293  3904.448392   938.44  3485.2400   \n",
              "UNIRIO             1035.0   6329.292802  4051.962452   791.60  3404.3500   \n",
              "UNIVASF              26.0   6866.293846  4294.793191   849.73  3408.6950   \n",
              "UTFPR               888.0   8265.122410  4423.889970  1139.76  4675.1575   \n",
              "\n",
              "                                              \n",
              "                   50%         75%       max  \n",
              "sigla_orgao                                   \n",
              "ABIN          6868.920   9969.3725  56717.54  \n",
              "AEB           3983.120   6514.3700  11471.51  \n",
              "AGU          11245.390  18316.6000  75172.66  \n",
              "ANA          12990.625  14853.2725  17567.87  \n",
              "ANAC          7643.310   8493.6400  15067.00  \n",
              "...                ...         ...       ...  \n",
              "UNIPAMPA      5105.860   6333.1700  14096.32  \n",
              "UNIR          5310.720   8039.2275  30128.88  \n",
              "UNIRIO        5049.820   8020.1700  21557.14  \n",
              "UNIVASF       6719.590  10229.6000  17962.50  \n",
              "UTFPR         7276.920  11256.4125  28036.12  \n",
              "\n",
              "[178 rows x 8 columns]"
            ],
            "text/html": [
              "\n",
              "  <div id=\"df-172eaec8-bf2a-4628-a394-b08fb5b1b5a6\">\n",
              "    <div class=\"colab-df-container\">\n",
              "      <div>\n",
              "<style scoped>\n",
              "    .dataframe tbody tr th:only-of-type {\n",
              "        vertical-align: middle;\n",
              "    }\n",
              "\n",
              "    .dataframe tbody tr th {\n",
              "        vertical-align: top;\n",
              "    }\n",
              "\n",
              "    .dataframe thead tr th {\n",
              "        text-align: left;\n",
              "    }\n",
              "\n",
              "    .dataframe thead tr:last-of-type th {\n",
              "        text-align: right;\n",
              "    }\n",
              "</style>\n",
              "<table border=\"1\" class=\"dataframe\">\n",
              "  <thead>\n",
              "    <tr>\n",
              "      <th></th>\n",
              "      <th colspan=\"8\" halign=\"left\">salario_float</th>\n",
              "    </tr>\n",
              "    <tr>\n",
              "      <th></th>\n",
              "      <th>count</th>\n",
              "      <th>mean</th>\n",
              "      <th>std</th>\n",
              "      <th>min</th>\n",
              "      <th>25%</th>\n",
              "      <th>50%</th>\n",
              "      <th>75%</th>\n",
              "      <th>max</th>\n",
              "    </tr>\n",
              "    <tr>\n",
              "      <th>sigla_orgao</th>\n",
              "      <th></th>\n",
              "      <th></th>\n",
              "      <th></th>\n",
              "      <th></th>\n",
              "      <th></th>\n",
              "      <th></th>\n",
              "      <th></th>\n",
              "      <th></th>\n",
              "    </tr>\n",
              "  </thead>\n",
              "  <tbody>\n",
              "    <tr>\n",
              "      <th>ABIN</th>\n",
              "      <td>74.0</td>\n",
              "      <td>8174.152432</td>\n",
              "      <td>6704.251754</td>\n",
              "      <td>2825.17</td>\n",
              "      <td>4808.0650</td>\n",
              "      <td>6868.920</td>\n",
              "      <td>9969.3725</td>\n",
              "      <td>56717.54</td>\n",
              "    </tr>\n",
              "    <tr>\n",
              "      <th>AEB</th>\n",
              "      <td>7.0</td>\n",
              "      <td>5500.125714</td>\n",
              "      <td>3250.416766</td>\n",
              "      <td>2836.34</td>\n",
              "      <td>3590.5850</td>\n",
              "      <td>3983.120</td>\n",
              "      <td>6514.3700</td>\n",
              "      <td>11471.51</td>\n",
              "    </tr>\n",
              "    <tr>\n",
              "      <th>AGU</th>\n",
              "      <td>3219.0</td>\n",
              "      <td>11898.106875</td>\n",
              "      <td>6966.182311</td>\n",
              "      <td>1692.27</td>\n",
              "      <td>5158.2950</td>\n",
              "      <td>11245.390</td>\n",
              "      <td>18316.6000</td>\n",
              "      <td>75172.66</td>\n",
              "    </tr>\n",
              "    <tr>\n",
              "      <th>ANA</th>\n",
              "      <td>20.0</td>\n",
              "      <td>12458.978500</td>\n",
              "      <td>3069.967513</td>\n",
              "      <td>7080.29</td>\n",
              "      <td>9809.7550</td>\n",
              "      <td>12990.625</td>\n",
              "      <td>14853.2725</td>\n",
              "      <td>17567.87</td>\n",
              "    </tr>\n",
              "    <tr>\n",
              "      <th>ANAC</th>\n",
              "      <td>161.0</td>\n",
              "      <td>7465.455217</td>\n",
              "      <td>2695.338185</td>\n",
              "      <td>1503.81</td>\n",
              "      <td>5484.3700</td>\n",
              "      <td>7643.310</td>\n",
              "      <td>8493.6400</td>\n",
              "      <td>15067.00</td>\n",
              "    </tr>\n",
              "    <tr>\n",
              "      <th>...</th>\n",
              "      <td>...</td>\n",
              "      <td>...</td>\n",
              "      <td>...</td>\n",
              "      <td>...</td>\n",
              "      <td>...</td>\n",
              "      <td>...</td>\n",
              "      <td>...</td>\n",
              "      <td>...</td>\n",
              "    </tr>\n",
              "    <tr>\n",
              "      <th>UNIPAMPA</th>\n",
              "      <td>21.0</td>\n",
              "      <td>5301.536190</td>\n",
              "      <td>3342.735272</td>\n",
              "      <td>998.56</td>\n",
              "      <td>3345.1500</td>\n",
              "      <td>5105.860</td>\n",
              "      <td>6333.1700</td>\n",
              "      <td>14096.32</td>\n",
              "    </tr>\n",
              "    <tr>\n",
              "      <th>UNIR</th>\n",
              "      <td>368.0</td>\n",
              "      <td>6349.954293</td>\n",
              "      <td>3904.448392</td>\n",
              "      <td>938.44</td>\n",
              "      <td>3485.2400</td>\n",
              "      <td>5310.720</td>\n",
              "      <td>8039.2275</td>\n",
              "      <td>30128.88</td>\n",
              "    </tr>\n",
              "    <tr>\n",
              "      <th>UNIRIO</th>\n",
              "      <td>1035.0</td>\n",
              "      <td>6329.292802</td>\n",
              "      <td>4051.962452</td>\n",
              "      <td>791.60</td>\n",
              "      <td>3404.3500</td>\n",
              "      <td>5049.820</td>\n",
              "      <td>8020.1700</td>\n",
              "      <td>21557.14</td>\n",
              "    </tr>\n",
              "    <tr>\n",
              "      <th>UNIVASF</th>\n",
              "      <td>26.0</td>\n",
              "      <td>6866.293846</td>\n",
              "      <td>4294.793191</td>\n",
              "      <td>849.73</td>\n",
              "      <td>3408.6950</td>\n",
              "      <td>6719.590</td>\n",
              "      <td>10229.6000</td>\n",
              "      <td>17962.50</td>\n",
              "    </tr>\n",
              "    <tr>\n",
              "      <th>UTFPR</th>\n",
              "      <td>888.0</td>\n",
              "      <td>8265.122410</td>\n",
              "      <td>4423.889970</td>\n",
              "      <td>1139.76</td>\n",
              "      <td>4675.1575</td>\n",
              "      <td>7276.920</td>\n",
              "      <td>11256.4125</td>\n",
              "      <td>28036.12</td>\n",
              "    </tr>\n",
              "  </tbody>\n",
              "</table>\n",
              "<p>178 rows × 8 columns</p>\n",
              "</div>\n",
              "      <button class=\"colab-df-convert\" onclick=\"convertToInteractive('df-172eaec8-bf2a-4628-a394-b08fb5b1b5a6')\"\n",
              "              title=\"Convert this dataframe to an interactive table.\"\n",
              "              style=\"display:none;\">\n",
              "        \n",
              "  <svg xmlns=\"http://www.w3.org/2000/svg\" height=\"24px\"viewBox=\"0 0 24 24\"\n",
              "       width=\"24px\">\n",
              "    <path d=\"M0 0h24v24H0V0z\" fill=\"none\"/>\n",
              "    <path d=\"M18.56 5.44l.94 2.06.94-2.06 2.06-.94-2.06-.94-.94-2.06-.94 2.06-2.06.94zm-11 1L8.5 8.5l.94-2.06 2.06-.94-2.06-.94L8.5 2.5l-.94 2.06-2.06.94zm10 10l.94 2.06.94-2.06 2.06-.94-2.06-.94-.94-2.06-.94 2.06-2.06.94z\"/><path d=\"M17.41 7.96l-1.37-1.37c-.4-.4-.92-.59-1.43-.59-.52 0-1.04.2-1.43.59L10.3 9.45l-7.72 7.72c-.78.78-.78 2.05 0 2.83L4 21.41c.39.39.9.59 1.41.59.51 0 1.02-.2 1.41-.59l7.78-7.78 2.81-2.81c.8-.78.8-2.07 0-2.86zM5.41 20L4 18.59l7.72-7.72 1.47 1.35L5.41 20z\"/>\n",
              "  </svg>\n",
              "      </button>\n",
              "      \n",
              "  <style>\n",
              "    .colab-df-container {\n",
              "      display:flex;\n",
              "      flex-wrap:wrap;\n",
              "      gap: 12px;\n",
              "    }\n",
              "\n",
              "    .colab-df-convert {\n",
              "      background-color: #E8F0FE;\n",
              "      border: none;\n",
              "      border-radius: 50%;\n",
              "      cursor: pointer;\n",
              "      display: none;\n",
              "      fill: #1967D2;\n",
              "      height: 32px;\n",
              "      padding: 0 0 0 0;\n",
              "      width: 32px;\n",
              "    }\n",
              "\n",
              "    .colab-df-convert:hover {\n",
              "      background-color: #E2EBFA;\n",
              "      box-shadow: 0px 1px 2px rgba(60, 64, 67, 0.3), 0px 1px 3px 1px rgba(60, 64, 67, 0.15);\n",
              "      fill: #174EA6;\n",
              "    }\n",
              "\n",
              "    [theme=dark] .colab-df-convert {\n",
              "      background-color: #3B4455;\n",
              "      fill: #D2E3FC;\n",
              "    }\n",
              "\n",
              "    [theme=dark] .colab-df-convert:hover {\n",
              "      background-color: #434B5C;\n",
              "      box-shadow: 0px 1px 3px 1px rgba(0, 0, 0, 0.15);\n",
              "      filter: drop-shadow(0px 1px 2px rgba(0, 0, 0, 0.3));\n",
              "      fill: #FFFFFF;\n",
              "    }\n",
              "  </style>\n",
              "\n",
              "      <script>\n",
              "        const buttonEl =\n",
              "          document.querySelector('#df-172eaec8-bf2a-4628-a394-b08fb5b1b5a6 button.colab-df-convert');\n",
              "        buttonEl.style.display =\n",
              "          google.colab.kernel.accessAllowed ? 'block' : 'none';\n",
              "\n",
              "        async function convertToInteractive(key) {\n",
              "          const element = document.querySelector('#df-172eaec8-bf2a-4628-a394-b08fb5b1b5a6');\n",
              "          const dataTable =\n",
              "            await google.colab.kernel.invokeFunction('convertToInteractive',\n",
              "                                                     [key], {});\n",
              "          if (!dataTable) return;\n",
              "\n",
              "          const docLinkHtml = 'Like what you see? Visit the ' +\n",
              "            '<a target=\"_blank\" href=https://colab.research.google.com/notebooks/data_table.ipynb>data table notebook</a>'\n",
              "            + ' to learn more about interactive tables.';\n",
              "          element.innerHTML = '';\n",
              "          dataTable['output_type'] = 'display_data';\n",
              "          await google.colab.output.renderOutput(dataTable, element);\n",
              "          const docLink = document.createElement('div');\n",
              "          docLink.innerHTML = docLinkHtml;\n",
              "          element.appendChild(docLink);\n",
              "        }\n",
              "      </script>\n",
              "    </div>\n",
              "  </div>\n",
              "  "
            ]
          },
          "metadata": {},
          "execution_count": 15
        }
      ]
    },
    {
      "cell_type": "markdown",
      "source": [
        "Maiores médias salariais em orgãos públicos"
      ],
      "metadata": {
        "id": "18G16DLDctL_"
      }
    },
    {
      "cell_type": "code",
      "source": [
        "df.groupby(['sigla_orgao'])['salario_float'].mean().sort_values(ascending=False)[:20].plot.bar(figsize=(16,9))"
      ],
      "metadata": {
        "colab": {
          "base_uri": "https://localhost:8080/",
          "height": 615
        },
        "id": "ZreUylRAcrEA",
        "outputId": "ad3e4deb-8fc6-487a-cb07-91b4f110af23"
      },
      "execution_count": null,
      "outputs": [
        {
          "output_type": "execute_result",
          "data": {
            "text/plain": [
              "<matplotlib.axes._subplots.AxesSubplot at 0x7f3536ffcf90>"
            ]
          },
          "metadata": {},
          "execution_count": 16
        },
        {
          "output_type": "display_data",
          "data": {
            "text/plain": [
              "<Figure size 1152x648 with 1 Axes>"
            ],
            "image/png": "[encoded data removed]"
          },
          "metadata": {
            "needs_background": "light"
          }
        }
      ]
    },
    {
      "cell_type": "markdown",
      "source": [
        "Menores médias salariais em orgãos públicos"
      ],
      "metadata": {
        "id": "Ie5hl-IycxXn"
      }
    },
    {
      "cell_type": "code",
      "source": [
        "df.groupby(['sigla_orgao'])['salario_float'].mean().sort_values(ascending=True)[:20].plot.bar(figsize=(16,9))"
      ],
      "metadata": {
        "colab": {
          "base_uri": "https://localhost:8080/",
          "height": 617
        },
        "id": "zizA0uKVc2A5",
        "outputId": "5f645375-94ec-4167-f73a-4b5d88178248"
      },
      "execution_count": null,
      "outputs": [
        {
          "output_type": "execute_result",
          "data": {
            "text/plain": [
              "<matplotlib.axes._subplots.AxesSubplot at 0x7f3536ead910>"
            ]
          },
          "metadata": {},
          "execution_count": 17
        },
        {
          "output_type": "display_data",
          "data": {
            "text/plain": [
              "<Figure size 1152x648 with 1 Axes>"
            ],
            "image/png": "[encoded data removed]"
          },
          "metadata": {
            "needs_background": "light"
          }
        }
      ]
    },
    {
      "cell_type": "markdown",
      "source": [
        "Maiores salários em orgãos públicos"
      ],
      "metadata": {
        "id": "Cd2KOZIic484"
      }
    },
    {
      "cell_type": "code",
      "source": [
        "df.groupby(['sigla_orgao'])['salario_float'].max().sort_values(ascending=False)[:20].plot.bar(figsize=(16,9))"
      ],
      "metadata": {
        "colab": {
          "base_uri": "https://localhost:8080/",
          "height": 616
        },
        "id": "TvyaJUccc4VQ",
        "outputId": "fd626da7-70b8-4d8a-e614-c4adf5ea0c74"
      },
      "execution_count": null,
      "outputs": [
        {
          "output_type": "execute_result",
          "data": {
            "text/plain": [
              "<matplotlib.axes._subplots.AxesSubplot at 0x7f35369afb10>"
            ]
          },
          "metadata": {},
          "execution_count": 18
        },
        {
          "output_type": "display_data",
          "data": {
            "text/plain": [
              "<Figure size 1152x648 with 1 Axes>"
            ],
            "image/png": "[encoded data removed]"
          },
          "metadata": {
            "needs_background": "light"
          }
        }
      ]
    },
    {
      "cell_type": "markdown",
      "source": [
        "Maiores salários iniciais em orgãos públicos"
      ],
      "metadata": {
        "id": "ouvciezjc-tS"
      }
    },
    {
      "cell_type": "code",
      "source": [
        "df.groupby(['sigla_orgao'])['salario_float'].min().sort_values(ascending=False)[:20].plot.bar(figsize=(16,9))"
      ],
      "metadata": {
        "colab": {
          "base_uri": "https://localhost:8080/",
          "height": 615
        },
        "id": "QnmOBGH-c7yg",
        "outputId": "f1b512b4-370f-441a-a585-c8777a148223"
      },
      "execution_count": null,
      "outputs": [
        {
          "output_type": "execute_result",
          "data": {
            "text/plain": [
              "<matplotlib.axes._subplots.AxesSubplot at 0x7f35368fc150>"
            ]
          },
          "metadata": {},
          "execution_count": 19
        },
        {
          "output_type": "display_data",
          "data": {
            "text/plain": [
              "<Figure size 1152x648 with 1 Axes>"
            ],
            "image/png": "[encoded data removed]"
          },
          "metadata": {
            "needs_background": "light"
          }
        }
      ]
    },
    {
      "cell_type": "markdown",
      "source": [
        "## Análise de tipos de aposentadoria"
      ],
      "metadata": {
        "id": "hZUOKEFRNU1_"
      }
    },
    {
      "cell_type": "code",
      "source": [
        "df.groupby('tipo_aposentadoria').count()"
      ],
      "metadata": {
        "colab": {
          "base_uri": "https://localhost:8080/",
          "height": 350
        },
        "id": "bxXlqmOtMjRM",
        "outputId": "549411d5-6bda-4d7a-87e1-2f82c509b4c7"
      },
      "execution_count": null,
      "outputs": [
        {
          "output_type": "execute_result",
          "data": {
            "text/plain": [
              "                               nome     cpf  matricula_servidor  nome_orgao  \\\n",
              "tipo_aposentadoria                                                            \n",
              "                                  1       1                   1           1   \n",
              "APOSENTADORIA POR INVALIDEZ   31383   31383               31383       31383   \n",
              "COMPULSORIA                    4393    4393                4393        4393   \n",
              "INCAPACIDADE                    633     633                 633         633   \n",
              "OUTROS                          144     144                 144         144   \n",
              "VOLUNTARIA                   380665  380665              380665      380665   \n",
              "\n",
              "                             sigla_orgao  codigo_orgao_superior   cargo  \\\n",
              "tipo_aposentadoria                                                        \n",
              "                                       1                      1       1   \n",
              "APOSENTADORIA POR INVALIDEZ        31383                  31383   31383   \n",
              "COMPULSORIA                         4393                   4393    4393   \n",
              "INCAPACIDADE                         633                    633     633   \n",
              "OUTROS                               144                    144     144   \n",
              "VOLUNTARIA                        380665                 380665  380665   \n",
              "\n",
              "                             classe  padrao  referencia   nivel  \\\n",
              "tipo_aposentadoria                                                \n",
              "                                  1       1           1       1   \n",
              "APOSENTADORIA POR INVALIDEZ   31383   31383       31383   31383   \n",
              "COMPULSORIA                    4393    4393        4393    4393   \n",
              "INCAPACIDADE                    633     633         633     633   \n",
              "OUTROS                          144     144         144     144   \n",
              "VOLUNTARIA                   380665  380665      380665  380665   \n",
              "\n",
              "                             fundamentacao_inatividade  nome_diploma_legal  \\\n",
              "tipo_aposentadoria                                                           \n",
              "                                                     1                   1   \n",
              "APOSENTADORIA POR INVALIDEZ                      31383               31383   \n",
              "COMPULSORIA                                       4393                4393   \n",
              "INCAPACIDADE                                       633                 633   \n",
              "OUTROS                                             144                 144   \n",
              "VOLUNTARIA                                      380665              380665   \n",
              "\n",
              "                             data_diploma_legal  ocorrencia_ingresso  \\\n",
              "tipo_aposentadoria                                                     \n",
              "                                              1                    1   \n",
              "APOSENTADORIA POR INVALIDEZ               31383                31383   \n",
              "COMPULSORIA                                4393                 4393   \n",
              "INCAPACIDADE                                633                  633   \n",
              "OUTROS                                      144                  144   \n",
              "VOLUNTARIA                               380664               380665   \n",
              "\n",
              "                             data_ingresso  salario  \n",
              "tipo_aposentadoria                                   \n",
              "                                         1        1  \n",
              "APOSENTADORIA POR INVALIDEZ          31383    31383  \n",
              "COMPULSORIA                           4393     4393  \n",
              "INCAPACIDADE                           633      633  \n",
              "OUTROS                                 144      144  \n",
              "VOLUNTARIA                          380665   380665  "
            ],
            "text/html": [
              "\n",
              "  <div id=\"df-d6f7a73e-d1d8-4b08-a213-c54e59456a62\">\n",
              "    <div class=\"colab-df-container\">\n",
              "      <div>\n",
              "<style scoped>\n",
              "    .dataframe tbody tr th:only-of-type {\n",
              "        vertical-align: middle;\n",
              "    }\n",
              "\n",
              "    .dataframe tbody tr th {\n",
              "        vertical-align: top;\n",
              "    }\n",
              "\n",
              "    .dataframe thead th {\n",
              "        text-align: right;\n",
              "    }\n",
              "</style>\n",
              "<table border=\"1\" class=\"dataframe\">\n",
              "  <thead>\n",
              "    <tr style=\"text-align: right;\">\n",
              "      <th></th>\n",
              "      <th>nome</th>\n",
              "      <th>cpf</th>\n",
              "      <th>matricula_servidor</th>\n",
              "      <th>nome_orgao</th>\n",
              "      <th>sigla_orgao</th>\n",
              "      <th>codigo_orgao_superior</th>\n",
              "      <th>cargo</th>\n",
              "      <th>classe</th>\n",
              "      <th>padrao</th>\n",
              "      <th>referencia</th>\n",
              "      <th>nivel</th>\n",
              "      <th>fundamentacao_inatividade</th>\n",
              "      <th>nome_diploma_legal</th>\n",
              "      <th>data_diploma_legal</th>\n",
              "      <th>ocorrencia_ingresso</th>\n",
              "      <th>data_ingresso</th>\n",
              "      <th>salario</th>\n",
              "    </tr>\n",
              "    <tr>\n",
              "      <th>tipo_aposentadoria</th>\n",
              "      <th></th>\n",
              "      <th></th>\n",
              "      <th></th>\n",
              "      <th></th>\n",
              "      <th></th>\n",
              "      <th></th>\n",
              "      <th></th>\n",
              "      <th></th>\n",
              "      <th></th>\n",
              "      <th></th>\n",
              "      <th></th>\n",
              "      <th></th>\n",
              "      <th></th>\n",
              "      <th></th>\n",
              "      <th></th>\n",
              "      <th></th>\n",
              "      <th></th>\n",
              "    </tr>\n",
              "  </thead>\n",
              "  <tbody>\n",
              "    <tr>\n",
              "      <th></th>\n",
              "      <td>1</td>\n",
              "      <td>1</td>\n",
              "      <td>1</td>\n",
              "      <td>1</td>\n",
              "      <td>1</td>\n",
              "      <td>1</td>\n",
              "      <td>1</td>\n",
              "      <td>1</td>\n",
              "      <td>1</td>\n",
              "      <td>1</td>\n",
              "      <td>1</td>\n",
              "      <td>1</td>\n",
              "      <td>1</td>\n",
              "      <td>1</td>\n",
              "      <td>1</td>\n",
              "      <td>1</td>\n",
              "      <td>1</td>\n",
              "    </tr>\n",
              "    <tr>\n",
              "      <th>APOSENTADORIA POR INVALIDEZ</th>\n",
              "      <td>31383</td>\n",
              "      <td>31383</td>\n",
              "      <td>31383</td>\n",
              "      <td>31383</td>\n",
              "      <td>31383</td>\n",
              "      <td>31383</td>\n",
              "      <td>31383</td>\n",
              "      <td>31383</td>\n",
              "      <td>31383</td>\n",
              "      <td>31383</td>\n",
              "      <td>31383</td>\n",
              "      <td>31383</td>\n",
              "      <td>31383</td>\n",
              "      <td>31383</td>\n",
              "      <td>31383</td>\n",
              "      <td>31383</td>\n",
              "      <td>31383</td>\n",
              "    </tr>\n",
              "    <tr>\n",
              "      <th>COMPULSORIA</th>\n",
              "      <td>4393</td>\n",
              "      <td>4393</td>\n",
              "      <td>4393</td>\n",
              "      <td>4393</td>\n",
              "      <td>4393</td>\n",
              "      <td>4393</td>\n",
              "      <td>4393</td>\n",
              "      <td>4393</td>\n",
              "      <td>4393</td>\n",
              "      <td>4393</td>\n",
              "      <td>4393</td>\n",
              "      <td>4393</td>\n",
              "      <td>4393</td>\n",
              "      <td>4393</td>\n",
              "      <td>4393</td>\n",
              "      <td>4393</td>\n",
              "      <td>4393</td>\n",
              "    </tr>\n",
              "    <tr>\n",
              "      <th>INCAPACIDADE</th>\n",
              "      <td>633</td>\n",
              "      <td>633</td>\n",
              "      <td>633</td>\n",
              "      <td>633</td>\n",
              "      <td>633</td>\n",
              "      <td>633</td>\n",
              "      <td>633</td>\n",
              "      <td>633</td>\n",
              "      <td>633</td>\n",
              "      <td>633</td>\n",
              "      <td>633</td>\n",
              "      <td>633</td>\n",
              "      <td>633</td>\n",
              "      <td>633</td>\n",
              "      <td>633</td>\n",
              "      <td>633</td>\n",
              "      <td>633</td>\n",
              "    </tr>\n",
              "    <tr>\n",
              "      <th>OUTROS</th>\n",
              "      <td>144</td>\n",
              "      <td>144</td>\n",
              "      <td>144</td>\n",
              "      <td>144</td>\n",
              "      <td>144</td>\n",
              "      <td>144</td>\n",
              "      <td>144</td>\n",
              "      <td>144</td>\n",
              "      <td>144</td>\n",
              "      <td>144</td>\n",
              "      <td>144</td>\n",
              "      <td>144</td>\n",
              "      <td>144</td>\n",
              "      <td>144</td>\n",
              "      <td>144</td>\n",
              "      <td>144</td>\n",
              "      <td>144</td>\n",
              "    </tr>\n",
              "    <tr>\n",
              "      <th>VOLUNTARIA</th>\n",
              "      <td>380665</td>\n",
              "      <td>380665</td>\n",
              "      <td>380665</td>\n",
              "      <td>380665</td>\n",
              "      <td>380665</td>\n",
              "      <td>380665</td>\n",
              "      <td>380665</td>\n",
              "      <td>380665</td>\n",
              "      <td>380665</td>\n",
              "      <td>380665</td>\n",
              "      <td>380665</td>\n",
              "      <td>380665</td>\n",
              "      <td>380665</td>\n",
              "      <td>380664</td>\n",
              "      <td>380665</td>\n",
              "      <td>380665</td>\n",
              "      <td>380665</td>\n",
              "    </tr>\n",
              "  </tbody>\n",
              "</table>\n",
              "</div>\n",
              "      <button class=\"colab-df-convert\" onclick=\"convertToInteractive('df-d6f7a73e-d1d8-4b08-a213-c54e59456a62')\"\n",
              "              title=\"Convert this dataframe to an interactive table.\"\n",
              "              style=\"display:none;\">\n",
              "        \n",
              "  <svg xmlns=\"http://www.w3.org/2000/svg\" height=\"24px\"viewBox=\"0 0 24 24\"\n",
              "       width=\"24px\">\n",
              "    <path d=\"M0 0h24v24H0V0z\" fill=\"none\"/>\n",
              "    <path d=\"M18.56 5.44l.94 2.06.94-2.06 2.06-.94-2.06-.94-.94-2.06-.94 2.06-2.06.94zm-11 1L8.5 8.5l.94-2.06 2.06-.94-2.06-.94L8.5 2.5l-.94 2.06-2.06.94zm10 10l.94 2.06.94-2.06 2.06-.94-2.06-.94-.94-2.06-.94 2.06-2.06.94z\"/><path d=\"M17.41 7.96l-1.37-1.37c-.4-.4-.92-.59-1.43-.59-.52 0-1.04.2-1.43.59L10.3 9.45l-7.72 7.72c-.78.78-.78 2.05 0 2.83L4 21.41c.39.39.9.59 1.41.59.51 0 1.02-.2 1.41-.59l7.78-7.78 2.81-2.81c.8-.78.8-2.07 0-2.86zM5.41 20L4 18.59l7.72-7.72 1.47 1.35L5.41 20z\"/>\n",
              "  </svg>\n",
              "      </button>\n",
              "      \n",
              "  <style>\n",
              "    .colab-df-container {\n",
              "      display:flex;\n",
              "      flex-wrap:wrap;\n",
              "      gap: 12px;\n",
              "    }\n",
              "\n",
              "    .colab-df-convert {\n",
              "      background-color: #E8F0FE;\n",
              "      border: none;\n",
              "      border-radius: 50%;\n",
              "      cursor: pointer;\n",
              "      display: none;\n",
              "      fill: #1967D2;\n",
              "      height: 32px;\n",
              "      padding: 0 0 0 0;\n",
              "      width: 32px;\n",
              "    }\n",
              "\n",
              "    .colab-df-convert:hover {\n",
              "      background-color: #E2EBFA;\n",
              "      box-shadow: 0px 1px 2px rgba(60, 64, 67, 0.3), 0px 1px 3px 1px rgba(60, 64, 67, 0.15);\n",
              "      fill: #174EA6;\n",
              "    }\n",
              "\n",
              "    [theme=dark] .colab-df-convert {\n",
              "      background-color: #3B4455;\n",
              "      fill: #D2E3FC;\n",
              "    }\n",
              "\n",
              "    [theme=dark] .colab-df-convert:hover {\n",
              "      background-color: #434B5C;\n",
              "      box-shadow: 0px 1px 3px 1px rgba(0, 0, 0, 0.15);\n",
              "      filter: drop-shadow(0px 1px 2px rgba(0, 0, 0, 0.3));\n",
              "      fill: #FFFFFF;\n",
              "    }\n",
              "  </style>\n",
              "\n",
              "      <script>\n",
              "        const buttonEl =\n",
              "          document.querySelector('#df-d6f7a73e-d1d8-4b08-a213-c54e59456a62 button.colab-df-convert');\n",
              "        buttonEl.style.display =\n",
              "          google.colab.kernel.accessAllowed ? 'block' : 'none';\n",
              "\n",
              "        async function convertToInteractive(key) {\n",
              "          const element = document.querySelector('#df-d6f7a73e-d1d8-4b08-a213-c54e59456a62');\n",
              "          const dataTable =\n",
              "            await google.colab.kernel.invokeFunction('convertToInteractive',\n",
              "                                                     [key], {});\n",
              "          if (!dataTable) return;\n",
              "\n",
              "          const docLinkHtml = 'Like what you see? Visit the ' +\n",
              "            '<a target=\"_blank\" href=https://colab.research.google.com/notebooks/data_table.ipynb>data table notebook</a>'\n",
              "            + ' to learn more about interactive tables.';\n",
              "          element.innerHTML = '';\n",
              "          dataTable['output_type'] = 'display_data';\n",
              "          await google.colab.output.renderOutput(dataTable, element);\n",
              "          const docLink = document.createElement('div');\n",
              "          docLink.innerHTML = docLinkHtml;\n",
              "          element.appendChild(docLink);\n",
              "        }\n",
              "      </script>\n",
              "    </div>\n",
              "  </div>\n",
              "  "
            ]
          },
          "metadata": {},
          "execution_count": 8
        }
      ]
    },
    {
      "cell_type": "code",
      "source": [
        "idx = []\n",
        "for i in df.index.values:\n",
        "    if df['tipo_aposentadoria'][i].strip() == '':\n",
        "        idx.append(i)\n",
        "idx"
      ],
      "metadata": {
        "colab": {
          "base_uri": "https://localhost:8080/"
        },
        "id": "YzccA-ZzAbm4",
        "outputId": "89768762-e0af-47bc-90a1-645a7c92dab0"
      },
      "execution_count": null,
      "outputs": [
        {
          "output_type": "execute_result",
          "data": {
            "text/plain": [
              "[1038]"
            ]
          },
          "metadata": {},
          "execution_count": 9
        }
      ]
    },
    {
      "cell_type": "code",
      "source": [
        "df.drop(idx,inplace=True)"
      ],
      "metadata": {
        "id": "m-NYGWhGA3X6"
      },
      "execution_count": null,
      "outputs": []
    },
    {
      "cell_type": "code",
      "source": [
        "df['tipo_aposentadoria'].hist(figsize=(16,9))"
      ],
      "metadata": {
        "colab": {
          "base_uri": "https://localhost:8080/",
          "height": 539
        },
        "id": "S0jzf2GHOXdH",
        "outputId": "b91c8bd3-202d-4c91-8ad7-e7f6e3111416"
      },
      "execution_count": null,
      "outputs": [
        {
          "output_type": "execute_result",
          "data": {
            "text/plain": [
              "<matplotlib.axes._subplots.AxesSubplot at 0x7fcc4de2f890>"
            ]
          },
          "metadata": {},
          "execution_count": 11
        },
        {
          "output_type": "display_data",
          "data": {
            "text/plain": [
              "<Figure size 1152x648 with 1 Axes>"
            ],
            "image/png": "[encoded data removed]"
          },
          "metadata": {
            "needs_background": "light"
          }
        }
      ]
    },
    {
      "cell_type": "code",
      "source": [
        "for i in range(5):\n",
        "    print(df['tipo_aposentadoria'].value_counts()[i]/len(df))"
      ],
      "metadata": {
        "colab": {
          "base_uri": "https://localhost:8080/"
        },
        "id": "yZFIErfRSLIF",
        "outputId": "30967ff8-4e63-4700-ede4-3dd9ebbaac9d"
      },
      "execution_count": null,
      "outputs": [
        {
          "output_type": "stream",
          "name": "stdout",
          "text": [
            "0.9123887272361212\n",
            "0.07521966933353787\n",
            "0.010529267673015066\n",
            "0.0015171924509489044\n",
            "0.00034514330637700196\n"
          ]
        }
      ]
    },
    {
      "cell_type": "markdown",
      "source": [
        "Com isso, sabemos que ocorreram 5 tipos de aposentadorias durante o período de análise: Aposentadoria por invalidez (10,52%), compulsória (7,52%), por incapacidade (1,51%), outros motivos não descritos (0,34%) e aposentadoria voluntária (91,23%), sendo essa última a mais comum."
      ],
      "metadata": {
        "id": "zJuyvFWhOEOc"
      }
    },
    {
      "cell_type": "markdown",
      "source": [
        "## Análise por orgãos"
      ],
      "metadata": {
        "id": "gui3xCrqOTs6"
      }
    },
    {
      "cell_type": "code",
      "source": [
        "df['nome_orgao'].nunique()"
      ],
      "metadata": {
        "colab": {
          "base_uri": "https://localhost:8080/"
        },
        "id": "9-ly3CaRQM_D",
        "outputId": "5812403e-7352-4875-ea36-d38f2d6b3e97"
      },
      "execution_count": null,
      "outputs": [
        {
          "output_type": "execute_result",
          "data": {
            "text/plain": [
              "178"
            ]
          },
          "metadata": {},
          "execution_count": 13
        }
      ]
    },
    {
      "cell_type": "markdown",
      "source": [
        "O conjunto de dados registra aposentados de um total de 178 orgãos públicos"
      ],
      "metadata": {
        "id": "qeKC1PIiQOfy"
      }
    },
    {
      "cell_type": "code",
      "source": [
        "df['nome_orgao'].value_counts()"
      ],
      "metadata": {
        "colab": {
          "base_uri": "https://localhost:8080/"
        },
        "id": "eGUJ4yGvOxAd",
        "outputId": "4de50da3-1990-4d51-a1e2-48d5919c8a0f"
      },
      "execution_count": null,
      "outputs": [
        {
          "output_type": "execute_result",
          "data": {
            "text/plain": [
              "MINISTERIO DA SAUDE                         85182\n",
              "DEP.DE CENTRAL.SERV.DE INATIVOS E PENS.     58691\n",
              "INSTITUTO NACIONAL DE SEGURO SOCIAL         38888\n",
              "FUNDACAO NACIONAL DE SAUDE                  11364\n",
              "COMANDO DO EXERCITO                         10520\n",
              "                                            ...  \n",
              "UNIVERSIDADE FED. SUL SUDESTE DO PARA           4\n",
              "UN. INT.INTERN. LUSOFONIA AFROBRASILEIRA        4\n",
              "MINISTERIO DAS COMUNICACOES                     3\n",
              "INSTITUTO FEDERAL DE RONDONIA                   1\n",
              "CAIXA DE FINANCIAMENTO IMOB.AERONAUTICA         1\n",
              "Name: nome_orgao, Length: 178, dtype: int64"
            ]
          },
          "metadata": {},
          "execution_count": 14
        }
      ]
    },
    {
      "cell_type": "code",
      "source": [
        "df_count_sigla = df.groupby('sigla_orgao').nome.agg(['count']).query('count >= 30').sort_values('count', ascending=False)[:15]"
      ],
      "metadata": {
        "id": "82WYn1l45Trz"
      },
      "execution_count": null,
      "outputs": []
    },
    {
      "cell_type": "code",
      "source": [
        "df_count_nome = df.groupby('nome_orgao').nome.agg(['count']).query('count >= 30').sort_values('count', ascending=False)[:15]"
      ],
      "metadata": {
        "id": "m2BwO0D5BU78"
      },
      "execution_count": null,
      "outputs": []
    },
    {
      "cell_type": "code",
      "source": [
        "X = df_count_sigla.index.values\n",
        "y = df_count_sigla['count'].values\n",
        "y"
      ],
      "metadata": {
        "colab": {
          "base_uri": "https://localhost:8080/"
        },
        "id": "bDQiWPqS8DuA",
        "outputId": "00638f4a-8885-4714-865f-4dacfa9c98c6"
      },
      "execution_count": null,
      "outputs": [
        {
          "output_type": "execute_result",
          "data": {
            "text/plain": [
              "array([85182, 58691, 38888, 11364, 10520, 10004,  7953,  7620,  7573,\n",
              "        7536,  7389,  6806,  6615,  6227,  5849])"
            ]
          },
          "metadata": {},
          "execution_count": 17
        }
      ]
    },
    {
      "cell_type": "code",
      "source": [
        "df_count_nome.index.values"
      ],
      "metadata": {
        "colab": {
          "base_uri": "https://localhost:8080/"
        },
        "id": "scS5J0-QBaNQ",
        "outputId": "d7ba2edf-8098-46ba-c707-a431946a082c"
      },
      "execution_count": null,
      "outputs": [
        {
          "output_type": "execute_result",
          "data": {
            "text/plain": [
              "array(['MINISTERIO DA SAUDE                     ',\n",
              "       'DEP.DE CENTRAL.SERV.DE INATIVOS E PENS. ',\n",
              "       'INSTITUTO NACIONAL DE SEGURO SOCIAL     ',\n",
              "       'FUNDACAO NACIONAL DE SAUDE              ',\n",
              "       'COMANDO DO EXERCITO                     ',\n",
              "       'MINIST.DA AGRICULTURA,PECUARIA E ABAST. ',\n",
              "       'COMANDO DA MARINHA                      ',\n",
              "       'FUND. INST. BRASIL. GEOG. E ESTATISTICA ',\n",
              "       'DEPARTAMENTO DE POLICIA FEDERAL         ',\n",
              "       'UNIVERSIDADE FEDERAL DO RIO DE JANEIRO  ',\n",
              "       'COMANDO DA AERONAUTICA                  ',\n",
              "       'MINISTERIO CIENCIA TEC.INOV.COMUNICACOES',\n",
              "       'DEPTO. DE POLICIA RODOVIARIA FEDERAL    ',\n",
              "       'UNIVERSIDADE FEDERAL DE MINAS GERAIS    ',\n",
              "       'MINISTERIO DA ECONOMIA                  '], dtype=object)"
            ]
          },
          "metadata": {},
          "execution_count": 18
        }
      ]
    },
    {
      "cell_type": "code",
      "source": [
        "plt.figure(figsize=(17,9))\n",
        "plt.bar(X,y)\n",
        "plt.savefig('/content/gdrive/MyDrive/CD2022/graficos/orgaos_aposentados.pdf')\n",
        "plt.show()"
      ],
      "metadata": {
        "colab": {
          "base_uri": "https://localhost:8080/",
          "height": 504
        },
        "id": "3-Lxr_SC8TNp",
        "outputId": "41fde541-bdbd-4b3d-e216-5fdc53f42f13"
      },
      "execution_count": null,
      "outputs": [
        {
          "output_type": "display_data",
          "data": {
            "text/plain": [
              "<Figure size 1224x648 with 1 Axes>"
            ],
            "image/png": "[encoded data removed]"
          },
          "metadata": {
            "needs_background": "light"
          }
        }
      ]
    },
    {
      "cell_type": "code",
      "source": [
        "for i in range(5):\n",
        "    print(df['nome_orgao'].value_counts()[i]/len(df))"
      ],
      "metadata": {
        "colab": {
          "base_uri": "https://localhost:8080/"
        },
        "id": "AiExXcD-TQM-",
        "outputId": "a6b6bfa8-a431-417a-de46-233536661e1f"
      },
      "execution_count": null,
      "outputs": [
        {
          "output_type": "stream",
          "name": "stdout",
          "text": [
            "0.2041666466930957\n",
            "0.14067226246230988\n",
            "0.09320786734992258\n",
            "0.02723755926158507\n",
            "0.025214635993653197\n"
          ]
        }
      ]
    },
    {
      "cell_type": "markdown",
      "source": [
        "Os orgãos públicos com maior número de aposentados são o **Ministério da Saúde (20,41%), o DECIPEX (14,06%), o INSS (9,32%), a Fundação Nacional de Saúde (2,72%) e o Exército (2,52%)**."
      ],
      "metadata": {
        "id": "2MhNvUUfQTkc"
      }
    },
    {
      "cell_type": "markdown",
      "source": [
        "## Análise de fundamentações utilizadas"
      ],
      "metadata": {
        "id": "PjHe0xPWRD1q"
      }
    },
    {
      "cell_type": "code",
      "source": [
        "df['fundamentacao_inatividade'].nunique()"
      ],
      "metadata": {
        "colab": {
          "base_uri": "https://localhost:8080/"
        },
        "id": "4EOziQ1OQBKE",
        "outputId": "619bea9b-025a-41b4-e930-7719cae9e934"
      },
      "execution_count": null,
      "outputs": [
        {
          "output_type": "execute_result",
          "data": {
            "text/plain": [
              "481"
            ]
          },
          "metadata": {},
          "execution_count": 21
        }
      ]
    },
    {
      "cell_type": "code",
      "source": [
        "df['fundamentacao_inatividade'].value_counts()[:20]"
      ],
      "metadata": {
        "colab": {
          "base_uri": "https://localhost:8080/"
        },
        "id": "QYy2BqL4RM8i",
        "outputId": "65f58fb1-109d-4c7e-f4ce-a8fecca624c1"
      },
      "execution_count": null,
      "outputs": [
        {
          "output_type": "execute_result",
          "data": {
            "text/plain": [
              "EC47 3Ì                                     138799\n",
              "CF 40 III C                                  25776\n",
              "EC41 6Ì                                      23148\n",
              "EC103 3Ì EC47 3Ì                             20160\n",
              "VOLUNTARIA (ART. 186,ITEM III,ALINEA C)      17930\n",
              "CF 40 III A L8112 192 II                     11787\n",
              "CF 40 III A                                   8963\n",
              "APOS. VOLUNTARIA C/PROVENTOS INTEGRAIS        8529\n",
              "VOLUNTARIA (ART. 186 ITEM III ALINEA A)       7173\n",
              "VOLUNTARIA ( ART. 192 ITEM II)                6939\n",
              "LC 51 1Ì I                                    6508\n",
              "EC41 6Ì Ý 5Ì                                  6441\n",
              "EC41 40 I 6-A EC70 INT                        6172\n",
              "EC41 40 I 6-A EC70 PROP                       5616\n",
              "CF 40 III A L1711 184 II                      5041\n",
              "VOLUNTARIA ( C/ ART. 192 INCISO I)            4643\n",
              "AP.VOL.PROV.INT,E ART.184 II, L.1711/52       4550\n",
              "EC20 8Ì I, II, III                            4059\n",
              "CF 40 III A L8112 192 I                       3981\n",
              "EC41 40 III A                                 3777\n",
              "Name: fundamentacao_inatividade, dtype: int64"
            ]
          },
          "metadata": {},
          "execution_count": 125
        }
      ]
    },
    {
      "cell_type": "code",
      "source": [
        "df['fundamentacao_inatividade'].value_counts()[0]/len(df)"
      ],
      "metadata": {
        "colab": {
          "base_uri": "https://localhost:8080/"
        },
        "id": "np6tVuAiRVR8",
        "outputId": "0198968d-4e09-4384-9e0e-20c80adec31c"
      },
      "execution_count": null,
      "outputs": [
        {
          "output_type": "execute_result",
          "data": {
            "text/plain": [
              "0.3326774012626493"
            ]
          },
          "metadata": {},
          "execution_count": 23
        }
      ]
    },
    {
      "cell_type": "markdown",
      "source": [
        "Com isso, temos que as aposentadorias se basearam em 482 fundamentações diferentes, tendo 33,26% se baseado Emenda Constitucional 47, terceiro inciso, ou seja, **aposentadoria por idade**. "
      ],
      "metadata": {
        "id": "ZePkEdLgROHo"
      }
    },
    {
      "cell_type": "markdown",
      "source": [
        "## Análise dos tipos de ingresso no serviço público"
      ],
      "metadata": {
        "id": "TW79GWCHT-QZ"
      }
    },
    {
      "cell_type": "code",
      "source": [
        "df['ocorrencia_ingresso'].value_counts()[:6]"
      ],
      "metadata": {
        "colab": {
          "base_uri": "https://localhost:8080/"
        },
        "id": "gc38u-DpUOd9",
        "outputId": "fd5e97da-51b8-461d-8ac5-6045faab822a"
      },
      "execution_count": null,
      "outputs": [
        {
          "output_type": "execute_result",
          "data": {
            "text/plain": [
              "ADMISSAO POR CONCURSO PUBLICO                         229569\n",
              "ADMISSAO SEM CONCURSO PUBLICO                         138690\n",
              "NOMEACAO PARA CARGO                                    19186\n",
              "NOMEACAO CARATER EFETIVO,ART.9,ITEM I ,LEI 8112/90      8852\n",
              "                                                        7536\n",
              "TRANSPOSICAO/TRANSFORMACAO                              4532\n",
              "Name: ocorrencia_ingresso, dtype: int64"
            ]
          },
          "metadata": {},
          "execution_count": 24
        }
      ]
    },
    {
      "cell_type": "code",
      "source": [
        "ingresso = df['ocorrencia_ingresso'].nunique()"
      ],
      "metadata": {
        "colab": {
          "base_uri": "https://localhost:8080/"
        },
        "id": "I7XRTI_gUYc9",
        "outputId": "3baa8d19-44b2-406e-eef3-e80c6c1ad17a"
      },
      "execution_count": null,
      "outputs": [
        {
          "output_type": "execute_result",
          "data": {
            "text/plain": [
              "192"
            ]
          },
          "metadata": {},
          "execution_count": 25
        }
      ]
    },
    {
      "cell_type": "code",
      "source": [
        "for i in range(5):\n",
        "    print(df['ocorrencia_ingresso'].value_counts()[i]/len(df))"
      ],
      "metadata": {
        "colab": {
          "base_uri": "https://localhost:8080/"
        },
        "id": "GvHJzreJUd6U",
        "outputId": "480847fb-4c25-4e42-f264-9df22edd20fb"
      },
      "execution_count": null,
      "outputs": [
        {
          "output_type": "stream",
          "name": "stdout",
          "text": [
            "0.5502375257059858\n",
            "0.33241614695435\n",
            "0.0459855519177025\n",
            "0.02121672602811959\n",
            "0.018062499700396435\n"
          ]
        }
      ]
    },
    {
      "cell_type": "markdown",
      "source": [
        "Desse modo, percebemos que existem diversas formas de chegar a um cargo do serviço público, com a base registrando um total de 192 maneiras diferentes. A maior parte delas ocorre por meio de admissão direta por concurso público, ou seja, o aprovado assumindo seu cargo inicial. <br/>\n",
        "\n",
        "No geral, as maneiras mais populares são **Admissão por Concurso Público (55,02%), Admissão sem Concurso Público (33,24%), Nomeação para Cargo (4,59%) e Nomeação Carater Efetivo (ART.9, ITEM I, LEI 8112/90) (2,12%)**.<br/>\n",
        "\n",
        "É importante mencionar que um total de 7537 servidores (1,80%) ingressaram ao serviço público de um modo não registrado pelo conjunto de dados, sendo essa a quinta forma mais comum de ingresso."
      ],
      "metadata": {
        "id": "Y-_zu3rZUfzV"
      }
    },
    {
      "cell_type": "markdown",
      "source": [
        "## Análise das informações de referências"
      ],
      "metadata": {
        "id": "99c56rNu3n6p"
      }
    },
    {
      "cell_type": "code",
      "source": [
        "df['nome_diploma_legal'].value_counts()"
      ],
      "metadata": {
        "colab": {
          "base_uri": "https://localhost:8080/"
        },
        "id": "HU_nghJN3y7r",
        "outputId": "656a7422-c00d-4a5f-fa16-94a00d661e6e"
      },
      "execution_count": null,
      "outputs": [
        {
          "output_type": "execute_result",
          "data": {
            "text/plain": [
              "DEC 009498/2018, AUT.EXT.: PR PUB: DO 11SET2018                 30634\n",
              "DEC 010620/2021, AUT.EXT.: PR PUB: DO 05FEV2021                 14068\n",
              "DEC 009679/2019, AUT.EXT.: PR PUB: DO 02JAN2019                 12530\n",
              "NO. PUBLICADO EM                                                 5614\n",
              "LEI 011892/2008, AUT.EXT.: PR PUB: DO 30DEZ2008                  4613\n",
              "                                                                ...  \n",
              "PORT 000284/2020, UPAG/RO PUB: DO 31AGO2020                         1\n",
              "PORT 000076/2019, UPAG/RO PUB: DO 28FEV2019                         1\n",
              "PORT 000492/2019, UPAG/RO PUB: DO 30SET2019                         1\n",
              "PORT 000083/2019, UPAG/RO PUB: DO 28FEV2019                         1\n",
              "PORTARIA 1099 DE 21/07/1976 - DOU 10/08/1976                        1\n",
              "Name: nome_diploma_legal, Length: 318322, dtype: int64"
            ]
          },
          "metadata": {},
          "execution_count": 27
        }
      ]
    },
    {
      "cell_type": "markdown",
      "source": [
        "## Análise das datas de aposentadoria"
      ],
      "metadata": {
        "id": "8H_i3CsGB_7i"
      }
    },
    {
      "cell_type": "code",
      "source": [
        "df.columns"
      ],
      "metadata": {
        "colab": {
          "base_uri": "https://localhost:8080/"
        },
        "id": "zn6Z29_-CORL",
        "outputId": "cf64d8c4-f5a5-4a69-fd3d-141c2b84e688"
      },
      "execution_count": null,
      "outputs": [
        {
          "output_type": "execute_result",
          "data": {
            "text/plain": [
              "Index(['nome', 'cpf', 'matricula_servidor', 'nome_orgao', 'sigla_orgao',\n",
              "       'codigo_orgao_superior', 'cargo', 'classe', 'padrao', 'referencia',\n",
              "       'nivel', 'tipo_aposentadoria', 'fundamentacao_inatividade',\n",
              "       'nome_diploma_legal', 'data_diploma_legal', 'ocorrencia_ingresso',\n",
              "       'data_ingresso', 'salario'],\n",
              "      dtype='object')"
            ]
          },
          "metadata": {},
          "execution_count": 28
        }
      ]
    },
    {
      "cell_type": "code",
      "source": [
        "dates = pd.to_datetime(df['data_diploma_legal'],format='%d%m%Y',errors='coerce')\n",
        "dates"
      ],
      "metadata": {
        "colab": {
          "base_uri": "https://localhost:8080/"
        },
        "id": "MR_3zmYUCQJx",
        "outputId": "cb386076-3e5c-4afa-caf2-df3b3532c082"
      },
      "execution_count": null,
      "outputs": [
        {
          "output_type": "execute_result",
          "data": {
            "text/plain": [
              "1        1994-12-30\n",
              "2        1995-01-31\n",
              "3        1990-07-01\n",
              "4        1990-07-02\n",
              "5        1990-05-31\n",
              "            ...    \n",
              "417215   2010-11-11\n",
              "417216   2015-09-18\n",
              "417217   2015-10-21\n",
              "417218   2008-01-17\n",
              "417219   1976-08-10\n",
              "Name: data_diploma_legal, Length: 417218, dtype: datetime64[ns]"
            ]
          },
          "metadata": {},
          "execution_count": 29
        }
      ]
    },
    {
      "cell_type": "code",
      "source": [
        "dates_by_year = dates.groupby([dates.dt.year]).agg('count')\n",
        "dates_by_year"
      ],
      "metadata": {
        "colab": {
          "base_uri": "https://localhost:8080/"
        },
        "id": "ZneBmbqoFaDq",
        "outputId": "048dc33e-be1a-46b0-eba7-323349675f4b"
      },
      "execution_count": null,
      "outputs": [
        {
          "output_type": "execute_result",
          "data": {
            "text/plain": [
              "data_diploma_legal\n",
              "1950.0        1\n",
              "1951.0        2\n",
              "1952.0        3\n",
              "1953.0        3\n",
              "1954.0        1\n",
              "          ...  \n",
              "2018.0    17639\n",
              "2019.0    36563\n",
              "2020.0    13755\n",
              "2021.0    11097\n",
              "2022.0     1445\n",
              "Name: data_diploma_legal, Length: 73, dtype: int64"
            ]
          },
          "metadata": {},
          "execution_count": 30
        }
      ]
    },
    {
      "cell_type": "code",
      "source": [
        "X = dates_by_year.index.values\n",
        "y = dates_by_year.values\n",
        "y"
      ],
      "metadata": {
        "colab": {
          "base_uri": "https://localhost:8080/"
        },
        "id": "_m6HJ9G-F2GL",
        "outputId": "af8840bc-cc17-4f1a-8ed7-ce7cce8ef4d5"
      },
      "execution_count": null,
      "outputs": [
        {
          "output_type": "execute_result",
          "data": {
            "text/plain": [
              "array([    1,     2,     3,     3,     1,     4,     2,     5,     6,\n",
              "           6,    12,     7,    14,    11,    18,    28,    38,    58,\n",
              "          66,   100,   131,   114,   138,   146,   126,   148,   492,\n",
              "        2165,  1240,   981,  1540,  1313,  1381,  1651,  1328,  1086,\n",
              "        1712,  1263,  1831,  3154,  8093, 17196,  9503, 11838, 10643,\n",
              "       20462, 17550, 15154, 13508,  5830,  3616,  3974,  5958, 12745,\n",
              "        4354,  3989,  5037,  6788,  8240, 11391, 12007, 13065, 13728,\n",
              "       14423, 13969, 14981, 14297, 20841, 17639, 36563, 13755, 11097,\n",
              "        1445])"
            ]
          },
          "metadata": {},
          "execution_count": 31
        }
      ]
    },
    {
      "cell_type": "code",
      "source": [
        "import numpy as np"
      ],
      "metadata": {
        "id": "0LC3y8dLYz7y"
      },
      "execution_count": null,
      "outputs": []
    },
    {
      "cell_type": "code",
      "source": [
        "np.sum([    1,     2,     3,     3,     1,     4,     2,     5,     6,\n",
        "           6,    12,     7,    14,    11,    18,    28,    38,    58,\n",
        "          66,   100,   131,   114,   138,   146,   126,   148,   492,\n",
        "        2165,  1240,   981,  1540,  1313,  1381,  1651,  1328,  1086,\n",
        "        1712,  1263,  1831,  3154,  8093, 17196,  9503, 11838, 10643,\n",
        "       20462, 17550, 15154, 13508,  5830,  3616,  3974,  5958, 12745,\n",
        "        4354,  3989,  5037,  6788,  8240, 11391, 12007, 13065, 13728,\n",
        "       14423, 13969, 14981, 14297, 20841, 17639, 36563, 13755, 11097,\n",
        "        1445])"
      ],
      "metadata": {
        "colab": {
          "base_uri": "https://localhost:8080/"
        },
        "id": "Ax8DOQM7BPwv",
        "outputId": "2ac8d3b2-c13f-4f8a-98c0-367cc1230e6b"
      },
      "execution_count": null,
      "outputs": [
        {
          "output_type": "execute_result",
          "data": {
            "text/plain": [
              "416004"
            ]
          },
          "metadata": {},
          "execution_count": 2
        }
      ]
    },
    {
      "cell_type": "code",
      "source": [
        "X"
      ],
      "metadata": {
        "colab": {
          "base_uri": "https://localhost:8080/"
        },
        "id": "NTdNFwFDGPOC",
        "outputId": "ca0b4e73-a332-46d2-f8a6-d29f2808f48f"
      },
      "execution_count": null,
      "outputs": [
        {
          "output_type": "execute_result",
          "data": {
            "text/plain": [
              "array([1950., 1951., 1952., 1953., 1954., 1955., 1956., 1957., 1958.,\n",
              "       1959., 1960., 1961., 1962., 1963., 1964., 1965., 1966., 1967.,\n",
              "       1968., 1969., 1970., 1971., 1972., 1973., 1974., 1975., 1976.,\n",
              "       1977., 1978., 1979., 1980., 1981., 1982., 1983., 1984., 1985.,\n",
              "       1986., 1987., 1988., 1989., 1990., 1991., 1992., 1993., 1994.,\n",
              "       1995., 1996., 1997., 1998., 1999., 2000., 2001., 2002., 2003.,\n",
              "       2004., 2005., 2006., 2007., 2008., 2009., 2010., 2011., 2012.,\n",
              "       2013., 2014., 2015., 2016., 2017., 2018., 2019., 2020., 2021.,\n",
              "       2022.])"
            ]
          },
          "metadata": {},
          "execution_count": 32
        }
      ]
    },
    {
      "cell_type": "code",
      "source": [
        "plt.figure(figsize=(16,9))\n",
        "plt.bar(X,y)\n",
        "plt.grid(True, color = \"grey\", linewidth = \"0.4\", linestyle = \"-.\")\n",
        "plt.savefig('/content/gdrive/MyDrive/CD2022/graficos/aposentadorias_por_ano.png')\n",
        "plt.show()"
      ],
      "metadata": {
        "colab": {
          "base_uri": "https://localhost:8080/",
          "height": 533
        },
        "id": "3_ukY07vGQrk",
        "outputId": "534fc3a9-6d2a-4af3-ca4f-cd34a277a4a2"
      },
      "execution_count": null,
      "outputs": [
        {
          "output_type": "display_data",
          "data": {
            "text/plain": [
              "<Figure size 1152x648 with 1 Axes>"
            ],
            "image/png": "[encoded data removed]"
          },
          "metadata": {
            "needs_background": "light"
          }
        }
      ]
    },
    {
      "cell_type": "markdown",
      "source": [
        "## Análise das datas de ingresso no serviço público\n"
      ],
      "metadata": {
        "id": "ePMUTZxM58k5"
      }
    },
    {
      "cell_type": "code",
      "source": [
        "df.columns"
      ],
      "metadata": {
        "colab": {
          "base_uri": "https://localhost:8080/"
        },
        "id": "QOHV6Zvm6SKo",
        "outputId": "3181e18b-279e-4670-85b7-8fea118e152a"
      },
      "execution_count": null,
      "outputs": [
        {
          "output_type": "execute_result",
          "data": {
            "text/plain": [
              "Index(['nome', 'cpf', 'matricula_servidor', 'nome_orgao', 'sigla_orgao',\n",
              "       'codigo_orgao_superior', 'cargo', 'classe', 'padrao', 'referencia',\n",
              "       'nivel', 'tipo_aposentadoria', 'fundamentacao_inatividade',\n",
              "       'nome_diploma_legal', 'data_diploma_legal', 'ocorrencia_ingresso',\n",
              "       'data_ingresso', 'salario'],\n",
              "      dtype='object')"
            ]
          },
          "metadata": {},
          "execution_count": 35
        }
      ]
    },
    {
      "cell_type": "code",
      "source": [
        "dates = pd.to_datetime(df['data_ingresso'],format='%d%m%Y',errors='coerce')\n",
        "dates"
      ],
      "metadata": {
        "id": "e8eSCrZkDWiY",
        "colab": {
          "base_uri": "https://localhost:8080/"
        },
        "outputId": "aa0065cf-f541-4241-a827-a4007bcc7291"
      },
      "execution_count": null,
      "outputs": [
        {
          "output_type": "execute_result",
          "data": {
            "text/plain": [
              "1        1962-06-15\n",
              "2        1962-06-15\n",
              "3        1962-06-15\n",
              "4        1961-06-08\n",
              "5        1961-12-21\n",
              "            ...    \n",
              "417215   1984-04-17\n",
              "417216   1985-04-17\n",
              "417217   1988-10-04\n",
              "417218   1973-12-02\n",
              "417219   1953-05-16\n",
              "Name: data_ingresso, Length: 417218, dtype: datetime64[ns]"
            ]
          },
          "metadata": {},
          "execution_count": 36
        }
      ]
    },
    {
      "cell_type": "code",
      "source": [
        "dates_by_year = dates.groupby([dates.dt.year]).agg('count')\n",
        "dates_by_year"
      ],
      "metadata": {
        "id": "j9JWpnTz6HLh"
      },
      "execution_count": null,
      "outputs": []
    },
    {
      "cell_type": "code",
      "source": [
        "X = dates_by_year.index.values\n",
        "y = dates_by_year.values\n",
        "y"
      ],
      "metadata": {
        "colab": {
          "base_uri": "https://localhost:8080/"
        },
        "id": "w0Gjv2UZ6KfI",
        "outputId": "7ad25dcf-9f23-4626-81d2-1814b95c40e7"
      },
      "execution_count": null,
      "outputs": [
        {
          "output_type": "execute_result",
          "data": {
            "text/plain": [
              "array([    1,     1,     1,     1,     3,     1,     2,     1,     8,\n",
              "           3,    10,    18,    17,    45,    62,   124,   148,   254,\n",
              "         210,   277,   367,   396,   970,   832,  1403,  1438,  1730,\n",
              "        2506,  1321,  2180,  2614,  2181,  4303,  4464,  9688,  3380,\n",
              "        2450,  3929,  4991,  4714,  5654,  4074,  5379,  5590,  7179,\n",
              "        9587, 10093, 20672, 16160, 17435, 18336, 23618, 26835, 22994,\n",
              "       26558, 20909, 24146, 20694, 10077, 11668,  6796,  3255,  2387,\n",
              "        2230,  2479,  3912,  6253,  4959,  2510,  2163,  1197,   558,\n",
              "         310,   202,   729,   803,   569,   455,   822,   334,   328,\n",
              "         514,   384,   177,   109,   116,   260,    32,    32,    11,\n",
              "           7,     1])"
            ]
          },
          "metadata": {},
          "execution_count": 38
        }
      ]
    },
    {
      "cell_type": "code",
      "source": [
        "plt.figure(figsize=(16,9))\n",
        "plt.bar(X,y)\n",
        "plt.grid(True, color = \"grey\", linewidth = \"0.4\", linestyle = \"-.\")\n",
        "plt.title(\"Quantidade de ingressos no serviço público por ano dos servidores aposentados\")\n",
        "plt.savefig('/content/gdrive/MyDrive/CD2022/graficos/aposentadorias_por_ano.png')\n",
        "plt.show()"
      ],
      "metadata": {
        "colab": {
          "base_uri": "https://localhost:8080/",
          "height": 548
        },
        "id": "b33-VvZk6Ptp",
        "outputId": "6a8dc7a9-f1c8-4290-93b8-a3222f6a5101"
      },
      "execution_count": null,
      "outputs": [
        {
          "output_type": "display_data",
          "data": {
            "text/plain": [
              "<Figure size 1152x648 with 1 Axes>"
            ],
            "image/png": "[encoded data removed]"
          },
          "metadata": {
            "needs_background": "light"
          }
        }
      ]
    },
    {
      "cell_type": "markdown",
      "source": [
        "## Análise do tempo de serviço"
      ],
      "metadata": {
        "id": "E3Ag5TObCwhf"
      }
    },
    {
      "cell_type": "code",
      "source": [
        "df['data_ingresso'] = pd.to_datetime(df['data_ingresso'],format='%d%m%Y',errors='coerce')"
      ],
      "metadata": {
        "id": "09uOHgMpDM5S",
        "colab": {
          "base_uri": "https://localhost:8080/"
        },
        "outputId": "ebe21308-d8ee-42c5-cca1-ff092674f743"
      },
      "execution_count": null,
      "outputs": [
        {
          "output_type": "stream",
          "name": "stderr",
          "text": [
            "/usr/local/lib/python3.7/dist-packages/ipykernel_launcher.py:1: SettingWithCopyWarning: \n",
            "A value is trying to be set on a copy of a slice from a DataFrame.\n",
            "Try using .loc[row_indexer,col_indexer] = value instead\n",
            "\n",
            "See the caveats in the documentation: https://pandas.pydata.org/pandas-docs/stable/user_guide/indexing.html#returning-a-view-versus-a-copy\n",
            "  \"\"\"Entry point for launching an IPython kernel.\n"
          ]
        }
      ]
    },
    {
      "cell_type": "code",
      "source": [
        "df['data_diploma_legal'] = pd.to_datetime(df['data_diploma_legal'],format='%d%m%Y',errors='coerce')"
      ],
      "metadata": {
        "id": "h_Km9ZJYDQ0T",
        "colab": {
          "base_uri": "https://localhost:8080/"
        },
        "outputId": "96cd9de5-919f-4adc-e632-55bad4daf903"
      },
      "execution_count": null,
      "outputs": [
        {
          "output_type": "stream",
          "name": "stderr",
          "text": [
            "/usr/local/lib/python3.7/dist-packages/ipykernel_launcher.py:1: SettingWithCopyWarning: \n",
            "A value is trying to be set on a copy of a slice from a DataFrame.\n",
            "Try using .loc[row_indexer,col_indexer] = value instead\n",
            "\n",
            "See the caveats in the documentation: https://pandas.pydata.org/pandas-docs/stable/user_guide/indexing.html#returning-a-view-versus-a-copy\n",
            "  \"\"\"Entry point for launching an IPython kernel.\n"
          ]
        }
      ]
    },
    {
      "cell_type": "code",
      "source": [
        "df['tempo_servico'] = (df['data_diploma_legal'] - df['data_ingresso']).dt.days/365"
      ],
      "metadata": {
        "id": "B5gvfcLVCzrt",
        "colab": {
          "base_uri": "https://localhost:8080/"
        },
        "outputId": "4e54021e-3b2f-4b6c-cd63-40e88ac81cd7"
      },
      "execution_count": null,
      "outputs": [
        {
          "output_type": "stream",
          "name": "stderr",
          "text": [
            "/usr/local/lib/python3.7/dist-packages/ipykernel_launcher.py:1: SettingWithCopyWarning: \n",
            "A value is trying to be set on a copy of a slice from a DataFrame.\n",
            "Try using .loc[row_indexer,col_indexer] = value instead\n",
            "\n",
            "See the caveats in the documentation: https://pandas.pydata.org/pandas-docs/stable/user_guide/indexing.html#returning-a-view-versus-a-copy\n",
            "  \"\"\"Entry point for launching an IPython kernel.\n"
          ]
        }
      ]
    },
    {
      "cell_type": "code",
      "source": [
        "axarr = df['tempo_servico'].hist(bins=40,range=[-1,50])\n",
        "axarr.set_xlabel(\"Anos de contribuição\")\n",
        "axarr.set_ylabel(\"Quantidade de aposentados\")"
      ],
      "metadata": {
        "colab": {
          "base_uri": "https://localhost:8080/",
          "height": 296
        },
        "id": "rY0p-hsqDWtK",
        "outputId": "63c03b6e-7085-45d1-ea8d-df091b7a4500"
      },
      "execution_count": null,
      "outputs": [
        {
          "output_type": "execute_result",
          "data": {
            "text/plain": [
              "Text(0, 0.5, 'Quantidade de aposentados')"
            ]
          },
          "metadata": {},
          "execution_count": 120
        },
        {
          "output_type": "display_data",
          "data": {
            "text/plain": [
              "<Figure size 432x288 with 1 Axes>"
            ],
            "image/png": "[encoded data removed]"
          },
          "metadata": {
            "needs_background": "light"
          }
        }
      ]
    },
    {
      "cell_type": "code",
      "source": [
        ""
      ],
      "metadata": {
        "id": "FtLPfKgbP-0F"
      },
      "execution_count": null,
      "outputs": []
    },
    {
      "cell_type": "markdown",
      "source": [
        "# Inferência nos dados"
      ],
      "metadata": {
        "id": "QanEXwi9Gfdz"
      }
    },
    {
      "cell_type": "markdown",
      "source": [
        "## Regressão para prever o salário\n",
        "\n"
      ],
      "metadata": {
        "id": "J9-cLt1cGjTb"
      }
    },
    {
      "cell_type": "code",
      "source": [
        "df.columns"
      ],
      "metadata": {
        "colab": {
          "base_uri": "https://localhost:8080/"
        },
        "id": "Cn_SWLCp0hnU",
        "outputId": "1c1f279d-f4f1-48fc-c110-87b49aae3473"
      },
      "execution_count": null,
      "outputs": [
        {
          "output_type": "execute_result",
          "data": {
            "text/plain": [
              "Index(['nome', 'cpf', 'matricula_servidor', 'nome_orgao', 'sigla_orgao',\n",
              "       'codigo_orgao_superior', 'cargo', 'classe', 'padrao', 'referencia',\n",
              "       'nivel', 'tipo_aposentadoria', 'fundamentacao_inatividade',\n",
              "       'nome_diploma_legal', 'data_diploma_legal', 'ocorrencia_ingresso',\n",
              "       'data_ingresso', 'salario', 'salario_float', 'tempo_servico'],\n",
              "      dtype='object')"
            ]
          },
          "metadata": {},
          "execution_count": 25
        }
      ]
    },
    {
      "cell_type": "code",
      "source": [
        "remove_cols = ['nome','cpf','matricula_servidor','nome_orgao','codigo_orgao_superior',\n",
        "               'classe','padrao','referencia','nivel','nome_diploma_legal',\n",
        "               'data_diploma_legal','ocorrencia_ingresso','data_ingresso','salario','salario_float']"
      ],
      "metadata": {
        "id": "f-Vi9yxS0bEa"
      },
      "execution_count": null,
      "outputs": []
    },
    {
      "cell_type": "code",
      "source": [
        "df.dropna(inplace=True)"
      ],
      "metadata": {
        "colab": {
          "base_uri": "https://localhost:8080/"
        },
        "id": "4Z7tl9I35Fft",
        "outputId": "723ee442-66bd-4fa1-93c4-54810b3631e0"
      },
      "execution_count": null,
      "outputs": [
        {
          "output_type": "stream",
          "name": "stderr",
          "text": [
            "/usr/local/lib/python3.7/dist-packages/pandas/util/_decorators.py:311: SettingWithCopyWarning: \n",
            "A value is trying to be set on a copy of a slice from a DataFrame\n",
            "\n",
            "See the caveats in the documentation: https://pandas.pydata.org/pandas-docs/stable/user_guide/indexing.html#returning-a-view-versus-a-copy\n",
            "  return func(*args, **kwargs)\n"
          ]
        }
      ]
    },
    {
      "cell_type": "code",
      "source": [
        "x = df.drop(remove_cols,axis=1)\n",
        "y = df['salario_float']"
      ],
      "metadata": {
        "id": "OWCPOI0K1lYR"
      },
      "execution_count": null,
      "outputs": []
    },
    {
      "cell_type": "code",
      "source": [
        "from sklearn import preprocessing"
      ],
      "metadata": {
        "id": "6iM9gDjC2ojL"
      },
      "execution_count": null,
      "outputs": []
    },
    {
      "cell_type": "code",
      "source": [
        "x.columns"
      ],
      "metadata": {
        "colab": {
          "base_uri": "https://localhost:8080/"
        },
        "id": "XxQy-ErQ3EF9",
        "outputId": "e85edaa8-1641-421f-8be1-add77d5ee6c2"
      },
      "execution_count": null,
      "outputs": [
        {
          "output_type": "execute_result",
          "data": {
            "text/plain": [
              "Index(['sigla_orgao', 'cargo', 'tipo_aposentadoria',\n",
              "       'fundamentacao_inatividade', 'tempo_servico'],\n",
              "      dtype='object')"
            ]
          },
          "metadata": {},
          "execution_count": 73
        }
      ]
    },
    {
      "cell_type": "code",
      "source": [
        "x.dropna(inplace=True)"
      ],
      "metadata": {
        "id": "ZTRf8_5R4-Fe"
      },
      "execution_count": null,
      "outputs": []
    },
    {
      "cell_type": "code",
      "source": [
        "to_encode = ['sigla_orgao', 'cargo', 'tipo_aposentadoria',\n",
        "       'fundamentacao_inatividade']"
      ],
      "metadata": {
        "id": "os1hyOEr3Ha-"
      },
      "execution_count": null,
      "outputs": []
    },
    {
      "cell_type": "code",
      "source": [
        "X_encoded = []\n",
        "for c in to_encode:\n",
        "    le = preprocessing.LabelEncoder()\n",
        "    le.fit(x[c])\n",
        "    n = le.transform(x[c])\n",
        "    X_encoded.append(n)\n",
        "X_encoded.append(np.array(x['tempo_servico']))"
      ],
      "metadata": {
        "id": "ghZQgLgR3Adr"
      },
      "execution_count": null,
      "outputs": []
    },
    {
      "cell_type": "code",
      "source": [
        "X = np.array(X_encoded).T"
      ],
      "metadata": {
        "id": "B5SQ7k_E3-Rd"
      },
      "execution_count": null,
      "outputs": []
    },
    {
      "cell_type": "code",
      "source": [
        "X"
      ],
      "metadata": {
        "colab": {
          "base_uri": "https://localhost:8080/"
        },
        "id": "U83yS0qm47M3",
        "outputId": "f70d6727-053c-45a4-9ddb-1ab7f245d898"
      },
      "execution_count": null,
      "outputs": [
        {
          "output_type": "execute_result",
          "data": {
            "text/plain": [
              "array([[104.        , 100.        ,   4.        ,  23.        ,\n",
              "         32.56438356],\n",
              "       [104.        , 683.        ,   4.        ,  62.        ,\n",
              "         32.65205479],\n",
              "       [104.        , 431.        ,   4.        ,  23.        ,\n",
              "         28.0630137 ],\n",
              "       ...,\n",
              "       [ 23.        ,  28.        ,   4.        , 307.        ,\n",
              "         27.0630137 ],\n",
              "       [ 23.        ,  28.        ,   1.        , 282.        ,\n",
              "         34.14794521],\n",
              "       [ 23.        ,  28.        ,   4.        , 133.        ,\n",
              "         23.25205479]])"
            ]
          },
          "metadata": {},
          "execution_count": 78
        }
      ]
    },
    {
      "cell_type": "code",
      "source": [
        "from sklearn.model_selection import train_test_split\n",
        "from sklearn.linear_model import LinearRegression\n",
        "from sklearn.tree import DecisionTreeRegressor\n",
        "from sklearn.ensemble import RandomForestRegressor"
      ],
      "metadata": {
        "id": "w9eP_qghImjD"
      },
      "execution_count": null,
      "outputs": []
    },
    {
      "cell_type": "code",
      "source": [
        "X_train, X_test, y_train, y_test = train_test_split(X, y, test_size=0.25, random_state=42)"
      ],
      "metadata": {
        "id": "BpfDqK8cIrB8"
      },
      "execution_count": null,
      "outputs": []
    },
    {
      "cell_type": "code",
      "source": [
        "regr = DecisionTreeRegressor(random_state=0)\n",
        "regr.fit(X_train, y_train)\n",
        "regr.score(X_test,y_test)"
      ],
      "metadata": {
        "colab": {
          "base_uri": "https://localhost:8080/"
        },
        "id": "NZeO11z-2TJE",
        "outputId": "c60f41fb-1abf-4845-c525-ff082a90c889"
      },
      "execution_count": null,
      "outputs": [
        {
          "output_type": "execute_result",
          "data": {
            "text/plain": [
              "0.44434028000521786"
            ]
          },
          "metadata": {},
          "execution_count": 84
        }
      ]
    },
    {
      "cell_type": "code",
      "source": [
        "lrgr=LinearRegression()\n",
        "lrgr.fit(X_train,y_train)\n",
        "lrgr.score(X_test,y_test)"
      ],
      "metadata": {
        "colab": {
          "base_uri": "https://localhost:8080/"
        },
        "id": "FQSd1HuV519M",
        "outputId": "47652b77-3162-46d9-ccc7-65b9f584b49a"
      },
      "execution_count": null,
      "outputs": [
        {
          "output_type": "execute_result",
          "data": {
            "text/plain": [
              "0.04146718829870566"
            ]
          },
          "metadata": {},
          "execution_count": 86
        }
      ]
    },
    {
      "cell_type": "code",
      "source": [
        "from sklearn.ensemble import RandomForestRegressor"
      ],
      "metadata": {
        "id": "fKLSTku99FdG"
      },
      "execution_count": null,
      "outputs": []
    },
    {
      "cell_type": "code",
      "source": [
        "regr = RandomForestRegressor(random_state=0)\n",
        "regr.fit(X_train, y_train)\n",
        "regr.score(X_test,y_test)"
      ],
      "metadata": {
        "colab": {
          "base_uri": "https://localhost:8080/"
        },
        "id": "ZqqdYq9z9HTN",
        "outputId": "1b20f510-8a03-4d65-b2e1-2f0a5bc85191"
      },
      "execution_count": null,
      "outputs": [
        {
          "output_type": "execute_result",
          "data": {
            "text/plain": [
              "0.6509673859667839"
            ]
          },
          "metadata": {},
          "execution_count": 88
        }
      ]
    },
    {
      "cell_type": "code",
      "source": [
        "from sklearn.svm import SVR"
      ],
      "metadata": {
        "id": "7Qp9JxGq9TZ4"
      },
      "execution_count": null,
      "outputs": []
    },
    {
      "cell_type": "code",
      "source": [
        "svr = SVR()\n",
        "svr.fit(X_train, y_train)\n",
        "svr.score(X_test,y_test)"
      ],
      "metadata": {
        "id": "bV_S3NER98n1"
      },
      "execution_count": null,
      "outputs": []
    }
  ]
}